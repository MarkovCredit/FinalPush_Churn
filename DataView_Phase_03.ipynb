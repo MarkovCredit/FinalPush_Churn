{
 "cells": [
  {
   "cell_type": "code",
   "execution_count": 1,
   "metadata": {},
   "outputs": [],
   "source": [
    "%matplotlib notebook\n",
    "\n",
    "import numpy as np\n",
    "import pandas as pd\n",
    "import matplotlib.pyplot as plt\n",
    "import time\n",
    "import os\n",
    "\n",
    "from datetime import datetime, timedelta"
   ]
  },
  {
   "cell_type": "code",
   "execution_count": 3,
   "metadata": {},
   "outputs": [],
   "source": [
    "file01_path  = \"data/export/subscriber_weightlossdata.csv\"\n",
    "#file02_path  = \"data/import/00_subscribers.csv\"\n",
    "#file03_path  = \"data/import/00_subscribers.csv\"\n",
    "\n",
    "file01_df = pd.read_csv(file01_path, encoding = \"ISO-8859-1\")"
   ]
  },
  {
   "cell_type": "code",
   "execution_count": 10,
   "metadata": {},
   "outputs": [
    {
     "data": {
      "text/html": [
       "<div>\n",
       "<style scoped>\n",
       "    .dataframe tbody tr th:only-of-type {\n",
       "        vertical-align: middle;\n",
       "    }\n",
       "\n",
       "    .dataframe tbody tr th {\n",
       "        vertical-align: top;\n",
       "    }\n",
       "\n",
       "    .dataframe thead th {\n",
       "        text-align: right;\n",
       "    }\n",
       "</style>\n",
       "<table border=\"1\" class=\"dataframe\">\n",
       "  <thead>\n",
       "    <tr style=\"text-align: right;\">\n",
       "      <th></th>\n",
       "      <th>SSID</th>\n",
       "      <th>PID</th>\n",
       "      <th>GENDER</th>\n",
       "      <th>ZIP_CODE</th>\n",
       "      <th>PATIENT_SINCE_DATE</th>\n",
       "      <th>BIRTH_YEAR</th>\n",
       "      <th>USER_PLAN</th>\n",
       "      <th>FIRST_PAYMENT_DATE_PLAN</th>\n",
       "      <th>LAST_PAYMENT_DATE_PLAN</th>\n",
       "      <th>TRANSACTION_COUNT</th>\n",
       "      <th>...</th>\n",
       "      <th>LAST_NAME</th>\n",
       "      <th>POUNDS_LOST</th>\n",
       "      <th>MEMBER</th>\n",
       "      <th>PID.1</th>\n",
       "      <th>PATIENT_ID</th>\n",
       "      <th>MONTHLY_INITIAL_SESSION</th>\n",
       "      <th>MONTHLY_INITIAL_VISIT_WEIGHT</th>\n",
       "      <th>MONTHLY_END_VISIT_WEIGHT</th>\n",
       "      <th>MONTHLY_END_VISIT_DATE</th>\n",
       "      <th>MONTHLY_END_SESSION</th>\n",
       "    </tr>\n",
       "  </thead>\n",
       "  <tbody>\n",
       "    <tr>\n",
       "      <th>0</th>\n",
       "      <td>115</td>\n",
       "      <td>10AguM3828</td>\n",
       "      <td>F</td>\n",
       "      <td>91791.0</td>\n",
       "      <td>10/4/2018</td>\n",
       "      <td>1969.0</td>\n",
       "      <td>wellnessplus</td>\n",
       "      <td>10/4/2018</td>\n",
       "      <td>12/4/2018</td>\n",
       "      <td>5.0</td>\n",
       "      <td>...</td>\n",
       "      <td>NaN</td>\n",
       "      <td>7.8</td>\n",
       "      <td>WPM</td>\n",
       "      <td>10AguM3828</td>\n",
       "      <td>NaN</td>\n",
       "      <td>1.0</td>\n",
       "      <td>166.3</td>\n",
       "      <td>158.5</td>\n",
       "      <td>10/30/2018</td>\n",
       "      <td>3.5</td>\n",
       "    </tr>\n",
       "  </tbody>\n",
       "</table>\n",
       "<p>1 rows × 31 columns</p>\n",
       "</div>"
      ],
      "text/plain": [
       "   SSID         PID GENDER  ZIP_CODE PATIENT_SINCE_DATE  BIRTH_YEAR  \\\n",
       "0   115  10AguM3828      F   91791.0          10/4/2018      1969.0   \n",
       "\n",
       "      USER_PLAN FIRST_PAYMENT_DATE_PLAN LAST_PAYMENT_DATE_PLAN  \\\n",
       "0  wellnessplus               10/4/2018              12/4/2018   \n",
       "\n",
       "   TRANSACTION_COUNT         ...          LAST_NAME POUNDS_LOST MEMBER  \\\n",
       "0                5.0         ...                NaN         7.8    WPM   \n",
       "\n",
       "        PID.1 PATIENT_ID MONTHLY_INITIAL_SESSION  \\\n",
       "0  10AguM3828        NaN                     1.0   \n",
       "\n",
       "   MONTHLY_INITIAL_VISIT_WEIGHT  MONTHLY_END_VISIT_WEIGHT  \\\n",
       "0                         166.3                     158.5   \n",
       "\n",
       "   MONTHLY_END_VISIT_DATE MONTHLY_END_SESSION  \n",
       "0              10/30/2018                 3.5  \n",
       "\n",
       "[1 rows x 31 columns]"
      ]
     },
     "execution_count": 10,
     "metadata": {},
     "output_type": "execute_result"
    }
   ],
   "source": [
    "file01_df.head(1)"
   ]
  },
  {
   "cell_type": "code",
   "execution_count": 6,
   "metadata": {},
   "outputs": [
    {
     "data": {
      "text/plain": [
       "SSID                            59432\n",
       "PID                             59432\n",
       "GENDER                          59431\n",
       "ZIP_CODE                        56655\n",
       "PATIENT_SINCE_DATE              59317\n",
       "BIRTH_YEAR                      59294\n",
       "USER_PLAN                       58221\n",
       "FIRST_PAYMENT_DATE_PLAN         57986\n",
       "LAST_PAYMENT_DATE_PLAN          58465\n",
       "TRANSACTION_COUNT               59089\n",
       "TOTAL_SPENT                     59432\n",
       "PROCESSOR                       59432\n",
       "CUSTOMER_STATUS                 59432\n",
       "CLINIC_ID                       59432\n",
       "MEMBER_CODE                     59432\n",
       "MEMBER_STATUS                   59432\n",
       "WT_ID                           58733\n",
       "NUM_VISITS                      58733\n",
       "CLINIC_ID.1                     58733\n",
       "MONTHLY_INITIAL_VISIT_DATE      58733\n",
       "FIRST_NAME                       5650\n",
       "LAST_NAME                        5650\n",
       "POUNDS_LOST                     58733\n",
       "MEMBER                          58731\n",
       "PID.1                           58733\n",
       "PATIENT_ID                       5650\n",
       "MONTHLY_INITIAL_SESSION         32047\n",
       "MONTHLY_INITIAL_VISIT_WEIGHT    58733\n",
       "MONTHLY_END_VISIT_WEIGHT        58733\n",
       "MONTHLY_END_VISIT_DATE          58733\n",
       "MONTHLY_END_SESSION             31381\n",
       "dtype: int64"
      ]
     },
     "execution_count": 6,
     "metadata": {},
     "output_type": "execute_result"
    }
   ],
   "source": [
    "file01_df.count()"
   ]
  },
  {
   "cell_type": "code",
   "execution_count": 8,
   "metadata": {},
   "outputs": [
    {
     "data": {
      "text/plain": [
       "(59432, 31)"
      ]
     },
     "execution_count": 8,
     "metadata": {},
     "output_type": "execute_result"
    }
   ],
   "source": [
    "file01_df.shape"
   ]
  },
  {
   "cell_type": "code",
   "execution_count": null,
   "metadata": {},
   "outputs": [],
   "source": []
  }
 ],
 "metadata": {
  "kernelspec": {
   "display_name": "Python [conda env:PythonData]",
   "language": "python",
   "name": "conda-env-PythonData-py"
  },
  "language_info": {
   "codemirror_mode": {
    "name": "ipython",
    "version": 3
   },
   "file_extension": ".py",
   "mimetype": "text/x-python",
   "name": "python",
   "nbconvert_exporter": "python",
   "pygments_lexer": "ipython3",
   "version": "3.6.5"
  }
 },
 "nbformat": 4,
 "nbformat_minor": 2
}
