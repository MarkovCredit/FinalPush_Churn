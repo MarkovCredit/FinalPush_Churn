{
 "cells": [
  {
   "cell_type": "code",
   "execution_count": null,
   "metadata": {},
   "outputs": [],
   "source": []
  },
  {
   "cell_type": "code",
   "execution_count": 1,
   "metadata": {},
   "outputs": [],
   "source": [
    "#dependencies\n",
    "%matplotlib notebook\n",
    "\n",
    "import tweepy\n",
    "import numpy as np\n",
    "import pandas as pd\n",
    "import matplotlib.pyplot as plt\n",
    "import time\n",
    "import os\n",
    "\n",
    "from datetime import datetime, timedelta"
   ]
  },
  {
   "cell_type": "code",
   "execution_count": 2,
   "metadata": {},
   "outputs": [],
   "source": [
    "#functions\n",
    "\n",
    "def calculate_age(born):\n",
    "    today = date.today()\n",
    "    return today.year - born.year - ((today.month, today.day) < (born.month, born.day))"
   ]
  },
  {
   "cell_type": "code",
   "execution_count": 8,
   "metadata": {},
   "outputs": [],
   "source": [
    "\n",
    "#create a listing of objects in the data directory\n",
    "this_dir = os.listdir(\"data/import\")\n",
    "\n",
    "#store the number of datasets found to compare later\n",
    "#len(this_dir)\n",
    "numfiles = len(this_dir)"
   ]
  },
  {
   "cell_type": "code",
   "execution_count": 9,
   "metadata": {},
   "outputs": [
    {
     "data": {
      "text/plain": [
       "13"
      ]
     },
     "execution_count": 9,
     "metadata": {},
     "output_type": "execute_result"
    }
   ],
   "source": [
    "numfiles"
   ]
  },
  {
   "cell_type": "code",
   "execution_count": 58,
   "metadata": {},
   "outputs": [
    {
     "name": "stdout",
     "output_type": "stream",
     "text": [
      "00_subscribers.csv\n",
      "01_JAN2018WeightLossAndComments.csv\n",
      "02_FEB2018WeightLossAndComments.csv\n",
      "03_MAR2018WeightLossAndComments.csv\n",
      "04_APR2018WeightLossAndComments.csv\n",
      "05_MAY2018WeightLossAndComments.csv\n",
      "06_JUN2018WeightLossAndComments.csv\n",
      "07_JUL2018WeightLossAndComments.csv\n",
      "08_Aug2018WeightLossAndComments.csv\n",
      "09_SEP2018WeightLossAndComments.csv\n",
      "10_OCT2018WeightLossAndComments.csv\n",
      "11_NOV2018WeightLossAndComments.csv\n",
      "12_DEC2018WeightLossAndComments.csv\n"
     ]
    }
   ],
   "source": [
    "#setup a counter\n",
    "row = 0\n",
    "\n",
    "for i in this_dir:\n",
    "    row += 1\n",
    "    #file_name = i.replace(\".csv\",\"\")\n",
    "    print(i)    "
   ]
  },
  {
   "cell_type": "code",
   "execution_count": 59,
   "metadata": {},
   "outputs": [
    {
     "data": {
      "text/plain": [
       "'\\n00_subscribers.csv\\n01_JAN2018WeightLossAndComments.csv\\n02_FEB2018WeightLossAndComments.csv\\n03_MAR2018WeightLossAndComments.csv\\n04_APR2018WeightLossAndComments.csv\\n05_MAY2018WeightLossAndComments.csv\\n06_JUN2018WeightLossAndComments.csv\\n07_JUL2018WeightLossAndComments.csv\\n08_Aug2018WeightLossAndComments.csv\\n09_SEP2018WeightLossAndComments.csv\\n10_OCT2018WeightLossAndComments.csv\\n11_NOV2018WeightLossAndComments.csv\\n12_DEC2018WeightLossAndComments.csv\\n'"
      ]
     },
     "execution_count": 59,
     "metadata": {},
     "output_type": "execute_result"
    }
   ],
   "source": [
    "'''\n",
    "00_subscribers.csv\n",
    "01_JAN2018WeightLossAndComments.csv\n",
    "02_FEB2018WeightLossAndComments.csv\n",
    "03_MAR2018WeightLossAndComments.csv\n",
    "04_APR2018WeightLossAndComments.csv\n",
    "05_MAY2018WeightLossAndComments.csv\n",
    "06_JUN2018WeightLossAndComments.csv\n",
    "07_JUL2018WeightLossAndComments.csv\n",
    "08_Aug2018WeightLossAndComments.csv\n",
    "09_SEP2018WeightLossAndComments.csv\n",
    "10_OCT2018WeightLossAndComments.csv\n",
    "11_NOV2018WeightLossAndComments.csv\n",
    "12_DEC2018WeightLossAndComments.csv\n",
    "'''"
   ]
  },
  {
   "cell_type": "code",
   "execution_count": 60,
   "metadata": {},
   "outputs": [],
   "source": [
    "file00_path  = \"data/import/00_subscribers.csv\"\n",
    "file01_path  = \"data/import/01_JAN2018WeightLossAndComments.csv\"\n",
    "file02_path  = \"data/import/02_FEB2018WeightLossAndComments.csv\"\n",
    "file03_path  = \"data/import/03_MAR2018WeightLossAndComments.csv\"\n",
    "file04_path  = \"data/import/04_APR2018WeightLossAndComments.csv\"\n",
    "file05_path  = \"data/import/05_MAY2018WeightLossAndComments.csv\"\n",
    "file06_path  = \"data/import/06_JUN2018WeightLossAndComments.csv\"\n",
    "file07_path  = \"data/import/07_JUL2018WeightLossAndComments.csv\"\n",
    "file08_path  = \"data/import/08_Aug2018WeightLossAndComments.csv\"\n",
    "file09_path  = \"data/import/09_SEP2018WeightLossAndComments.csv\"\n",
    "file10_path  = \"data/import/10_OCT2018WeightLossAndComments.csv\"\n",
    "file11_path  = \"data/import/11_NOV2018WeightLossAndComments.csv\"\n",
    "file12_path  = \"data/import/12_DEC2018WeightLossAndComments.csv\""
   ]
  },
  {
   "cell_type": "code",
   "execution_count": 61,
   "metadata": {
    "scrolled": true
   },
   "outputs": [],
   "source": [
    "file00_df = pd.read_csv(file00_path, encoding = \"ISO-8859-1\")\n",
    "file01_df = pd.read_csv(file01_path, encoding = \"ISO-8859-1\")\n",
    "file02_df = pd.read_csv(file02_path, encoding = \"ISO-8859-1\")\n",
    "file03_df = pd.read_csv(file03_path, encoding = \"ISO-8859-1\")\n",
    "file04_df = pd.read_csv(file04_path, encoding = \"ISO-8859-1\")\n",
    "file05_df = pd.read_csv(file05_path, encoding = \"ISO-8859-1\")\n",
    "file06_df = pd.read_csv(file06_path, encoding = \"ISO-8859-1\")\n",
    "file07_df = pd.read_csv(file07_path, encoding = \"ISO-8859-1\")\n",
    "file08_df = pd.read_csv(file08_path, encoding = \"ISO-8859-1\")\n",
    "file09_df = pd.read_csv(file09_path, encoding = \"ISO-8859-1\")\n",
    "file10_df = pd.read_csv(file10_path, encoding = \"ISO-8859-1\")\n",
    "file11_df = pd.read_csv(file11_path, encoding = \"ISO-8859-1\")\n",
    "file12_df = pd.read_csv(file12_path, encoding = \"ISO-8859-1\")"
   ]
  },
  {
   "cell_type": "code",
   "execution_count": 62,
   "metadata": {},
   "outputs": [
    {
     "data": {
      "text/html": [
       "<div>\n",
       "<style scoped>\n",
       "    .dataframe tbody tr th:only-of-type {\n",
       "        vertical-align: middle;\n",
       "    }\n",
       "\n",
       "    .dataframe tbody tr th {\n",
       "        vertical-align: top;\n",
       "    }\n",
       "\n",
       "    .dataframe thead th {\n",
       "        text-align: right;\n",
       "    }\n",
       "</style>\n",
       "<table border=\"1\" class=\"dataframe\">\n",
       "  <thead>\n",
       "    <tr style=\"text-align: right;\">\n",
       "      <th></th>\n",
       "      <th>PID</th>\n",
       "      <th>Gender</th>\n",
       "      <th>Zip Code</th>\n",
       "      <th>Patient Since</th>\n",
       "      <th>Birth Year</th>\n",
       "      <th>User Plan</th>\n",
       "      <th>First Payment</th>\n",
       "      <th>Last Payment</th>\n",
       "      <th>Transaction Count</th>\n",
       "      <th>Total Spend</th>\n",
       "      <th>Processor</th>\n",
       "      <th>Customer Status</th>\n",
       "      <th>Clinic ID</th>\n",
       "      <th>Member Code</th>\n",
       "      <th>Member Status</th>\n",
       "    </tr>\n",
       "  </thead>\n",
       "  <tbody>\n",
       "    <tr>\n",
       "      <th>0</th>\n",
       "      <td>24Oes4471</td>\n",
       "      <td>F</td>\n",
       "      <td>91311.0</td>\n",
       "      <td>2018.0</td>\n",
       "      <td>1962.0</td>\n",
       "      <td>wellnessunlimited</td>\n",
       "      <td>10/25/2018</td>\n",
       "      <td>12/25/2018</td>\n",
       "      <td>4.0</td>\n",
       "      <td>596.0</td>\n",
       "      <td>Stripe</td>\n",
       "      <td>New</td>\n",
       "      <td>24</td>\n",
       "      <td>WUM</td>\n",
       "      <td>Active</td>\n",
       "    </tr>\n",
       "  </tbody>\n",
       "</table>\n",
       "</div>"
      ],
      "text/plain": [
       "         PID Gender  Zip Code  Patient Since  Birth Year          User Plan  \\\n",
       "0  24Oes4471      F   91311.0         2018.0      1962.0  wellnessunlimited   \n",
       "\n",
       "  First Payment Last Payment  Transaction Count  Total Spend Processor  \\\n",
       "0    10/25/2018   12/25/2018                4.0        596.0    Stripe   \n",
       "\n",
       "  Customer Status  Clinic ID Member Code Member Status  \n",
       "0             New         24         WUM        Active  "
      ]
     },
     "execution_count": 62,
     "metadata": {},
     "output_type": "execute_result"
    }
   ],
   "source": [
    "file00_df.head(1)"
   ]
  },
  {
   "cell_type": "code",
   "execution_count": 63,
   "metadata": {},
   "outputs": [],
   "source": [
    "bigdata = pd.concat([file01_df, file02_df, file03_df, file04_df, file05_df, file06_df, \n",
    "file07_df, file08_df, file09_df, file10_df, file11_df, file12_df], ignore_index=True, sort=True)"
   ]
  },
  {
   "cell_type": "code",
   "execution_count": 64,
   "metadata": {},
   "outputs": [
    {
     "data": {
      "text/plain": [
       "# of Visits (W, M, L)              60004\n",
       "Clinic_id                          60004\n",
       "Date first visit of the month      59613\n",
       "Lbs Lost                           60004\n",
       "Memb                               60004\n",
       "PID                                60004\n",
       "Session (if applicable)            32267\n",
       "Weight first visit of the month    59613\n",
       "Weight last visit of month         59613\n",
       "last visit of month                59613\n",
       "session (if applicable)            31695\n",
       "dtype: int64"
      ]
     },
     "execution_count": 64,
     "metadata": {},
     "output_type": "execute_result"
    }
   ],
   "source": [
    "bigdata.count()"
   ]
  },
  {
   "cell_type": "code",
   "execution_count": null,
   "metadata": {},
   "outputs": [],
   "source": []
  },
  {
   "cell_type": "code",
   "execution_count": 65,
   "metadata": {},
   "outputs": [
    {
     "name": "stdout",
     "output_type": "stream",
     "text": [
      "Index(['# of Visits (W, M, L)', 'Clinic_id', 'Date first visit of the month',\n",
      "       'Lbs Lost', 'Memb', 'PID', 'Session (if applicable)',\n",
      "       'Weight first visit of the month', 'Weight last visit of month',\n",
      "       'last visit of month', 'session (if applicable)'],\n",
      "      dtype='object')\n"
     ]
    }
   ],
   "source": [
    "print(bigdata.columns)"
   ]
  },
  {
   "cell_type": "code",
   "execution_count": 66,
   "metadata": {},
   "outputs": [],
   "source": [
    "patientdata_fixdf = bigdata.rename(columns={\n",
    "    '# of Visits (W, M, L)':'NUM_VISITS'\n",
    "    , 'Clinic_id':'CLINIC_ID'\n",
    "    , 'Comment first visit':'MONTHLY_INITIAL_VISIT_COMMENT'\n",
    "    , 'Date first visit of the month':'MONTHLY_INITIAL_VISIT_DATE'\n",
    "    , 'First Name':'FIRST_NAME'\n",
    "    , 'Last Name':'LAST_NAME'\n",
    "    , 'Lbs Lost':'POUNDS_LOST'\n",
    "    , 'Memb':'MEMBER'\n",
    "    , 'PID':'PID'\n",
    "    , 'Patient_id':'PATIENT_ID'\n",
    "    , 'Session (if applicable)':'MONTHLY_INITIAL_SESSION'\n",
    "    , 'Weight first visit of the month':'MONTHLY_INITIAL_VISIT_WEIGHT'\n",
    "    , 'Weight last visit of month':'MONTHLY_END_VISIT_WEIGHT'\n",
    "    , 'comment last visit of month':'MONTHLY_END_VISIT_COMMENT'\n",
    "    , 'last visit of month':'MONTHLY_END_VISIT_DATE'\n",
    "    , 'session (if applicable)':'MONTHLY_END_SESSION' \n",
    "                                                })"
   ]
  },
  {
   "cell_type": "code",
   "execution_count": 67,
   "metadata": {},
   "outputs": [
    {
     "data": {
      "text/html": [
       "<div>\n",
       "<style scoped>\n",
       "    .dataframe tbody tr th:only-of-type {\n",
       "        vertical-align: middle;\n",
       "    }\n",
       "\n",
       "    .dataframe tbody tr th {\n",
       "        vertical-align: top;\n",
       "    }\n",
       "\n",
       "    .dataframe thead th {\n",
       "        text-align: right;\n",
       "    }\n",
       "</style>\n",
       "<table border=\"1\" class=\"dataframe\">\n",
       "  <thead>\n",
       "    <tr style=\"text-align: right;\">\n",
       "      <th></th>\n",
       "      <th>NUM_VISITS</th>\n",
       "      <th>CLINIC_ID</th>\n",
       "      <th>MONTHLY_INITIAL_VISIT_DATE</th>\n",
       "      <th>POUNDS_LOST</th>\n",
       "      <th>MEMBER</th>\n",
       "      <th>PID</th>\n",
       "      <th>MONTHLY_INITIAL_SESSION</th>\n",
       "      <th>MONTHLY_INITIAL_VISIT_WEIGHT</th>\n",
       "      <th>MONTHLY_END_VISIT_WEIGHT</th>\n",
       "      <th>MONTHLY_END_VISIT_DATE</th>\n",
       "      <th>MONTHLY_END_SESSION</th>\n",
       "    </tr>\n",
       "  </thead>\n",
       "  <tbody>\n",
       "    <tr>\n",
       "      <th>0</th>\n",
       "      <td>3</td>\n",
       "      <td>27</td>\n",
       "      <td>01/05/18</td>\n",
       "      <td>5.6</td>\n",
       "      <td>WUM</td>\n",
       "      <td>27Mar1925</td>\n",
       "      <td>NaN</td>\n",
       "      <td>185.3</td>\n",
       "      <td>179.7</td>\n",
       "      <td>01/31/18</td>\n",
       "      <td>NaN</td>\n",
       "    </tr>\n",
       "    <tr>\n",
       "      <th>1</th>\n",
       "      <td>3</td>\n",
       "      <td>1</td>\n",
       "      <td>01/04/18</td>\n",
       "      <td>2.8</td>\n",
       "      <td>BWM</td>\n",
       "      <td>1Mar2397</td>\n",
       "      <td>NaN</td>\n",
       "      <td>167.9</td>\n",
       "      <td>165.1</td>\n",
       "      <td>01/26/18</td>\n",
       "      <td>NaN</td>\n",
       "    </tr>\n",
       "    <tr>\n",
       "      <th>2</th>\n",
       "      <td>6</td>\n",
       "      <td>10</td>\n",
       "      <td>01/08/18</td>\n",
       "      <td>2.7</td>\n",
       "      <td>BWM</td>\n",
       "      <td>10May2468</td>\n",
       "      <td>NaN</td>\n",
       "      <td>154.4</td>\n",
       "      <td>151.7</td>\n",
       "      <td>01/31/18</td>\n",
       "      <td>NaN</td>\n",
       "    </tr>\n",
       "    <tr>\n",
       "      <th>3</th>\n",
       "      <td>3</td>\n",
       "      <td>10</td>\n",
       "      <td>01/05/18</td>\n",
       "      <td>-0.4</td>\n",
       "      <td>BWM</td>\n",
       "      <td>10Mar3415</td>\n",
       "      <td>NaN</td>\n",
       "      <td>147.2</td>\n",
       "      <td>147.6</td>\n",
       "      <td>01/31/18</td>\n",
       "      <td>NaN</td>\n",
       "    </tr>\n",
       "    <tr>\n",
       "      <th>4</th>\n",
       "      <td>19</td>\n",
       "      <td>10</td>\n",
       "      <td>01/02/18</td>\n",
       "      <td>1.2</td>\n",
       "      <td>WUM</td>\n",
       "      <td>10Mar3488</td>\n",
       "      <td>4.1</td>\n",
       "      <td>242.4</td>\n",
       "      <td>241.2</td>\n",
       "      <td>01/31/18</td>\n",
       "      <td>7.4</td>\n",
       "    </tr>\n",
       "  </tbody>\n",
       "</table>\n",
       "</div>"
      ],
      "text/plain": [
       "   NUM_VISITS  CLINIC_ID MONTHLY_INITIAL_VISIT_DATE  POUNDS_LOST MEMBER  \\\n",
       "0           3         27                   01/05/18          5.6    WUM   \n",
       "1           3          1                   01/04/18          2.8    BWM   \n",
       "2           6         10                   01/08/18          2.7    BWM   \n",
       "3           3         10                   01/05/18         -0.4    BWM   \n",
       "4          19         10                   01/02/18          1.2    WUM   \n",
       "\n",
       "         PID  MONTHLY_INITIAL_SESSION  MONTHLY_INITIAL_VISIT_WEIGHT  \\\n",
       "0  27Mar1925                      NaN                         185.3   \n",
       "1   1Mar2397                      NaN                         167.9   \n",
       "2  10May2468                      NaN                         154.4   \n",
       "3  10Mar3415                      NaN                         147.2   \n",
       "4  10Mar3488                      4.1                         242.4   \n",
       "\n",
       "   MONTHLY_END_VISIT_WEIGHT MONTHLY_END_VISIT_DATE  MONTHLY_END_SESSION  \n",
       "0                     179.7               01/31/18                  NaN  \n",
       "1                     165.1               01/26/18                  NaN  \n",
       "2                     151.7               01/31/18                  NaN  \n",
       "3                     147.6               01/31/18                  NaN  \n",
       "4                     241.2               01/31/18                  7.4  "
      ]
     },
     "execution_count": 67,
     "metadata": {},
     "output_type": "execute_result"
    }
   ],
   "source": [
    "patientdata_fixdf.head()"
   ]
  },
  {
   "cell_type": "code",
   "execution_count": 68,
   "metadata": {},
   "outputs": [
    {
     "data": {
      "text/plain": [
       "NUM_VISITS                      60004\n",
       "CLINIC_ID                       60004\n",
       "MONTHLY_INITIAL_VISIT_DATE      59613\n",
       "POUNDS_LOST                     60004\n",
       "MEMBER                          60004\n",
       "PID                             60004\n",
       "MONTHLY_INITIAL_SESSION         32267\n",
       "MONTHLY_INITIAL_VISIT_WEIGHT    59613\n",
       "MONTHLY_END_VISIT_WEIGHT        59613\n",
       "MONTHLY_END_VISIT_DATE          59613\n",
       "MONTHLY_END_SESSION             31695\n",
       "dtype: int64"
      ]
     },
     "execution_count": 68,
     "metadata": {},
     "output_type": "execute_result"
    }
   ],
   "source": [
    "patientdata_fixdf.count()"
   ]
  },
  {
   "cell_type": "code",
   "execution_count": 69,
   "metadata": {},
   "outputs": [
    {
     "data": {
      "text/plain": [
       "(60004, 11)"
      ]
     },
     "execution_count": 69,
     "metadata": {},
     "output_type": "execute_result"
    }
   ],
   "source": [
    "patientdata_fixdf.shape"
   ]
  },
  {
   "cell_type": "code",
   "execution_count": 70,
   "metadata": {},
   "outputs": [],
   "source": [
    "#patientdata_fixdf.to_csv('data\\patient_bigdata.csv')"
   ]
  },
  {
   "cell_type": "code",
   "execution_count": 71,
   "metadata": {},
   "outputs": [],
   "source": [
    "patientdata_fixdf.to_csv('data\\weightloss.csv')"
   ]
  },
  {
   "cell_type": "code",
   "execution_count": 32,
   "metadata": {},
   "outputs": [
    {
     "data": {
      "text/html": [
       "<div>\n",
       "<style scoped>\n",
       "    .dataframe tbody tr th:only-of-type {\n",
       "        vertical-align: middle;\n",
       "    }\n",
       "\n",
       "    .dataframe tbody tr th {\n",
       "        vertical-align: top;\n",
       "    }\n",
       "\n",
       "    .dataframe thead th {\n",
       "        text-align: right;\n",
       "    }\n",
       "</style>\n",
       "<table border=\"1\" class=\"dataframe\">\n",
       "  <thead>\n",
       "    <tr style=\"text-align: right;\">\n",
       "      <th></th>\n",
       "      <th>PID</th>\n",
       "      <th>Gender</th>\n",
       "      <th>Zip Code</th>\n",
       "      <th>Patient Since</th>\n",
       "      <th>Birth Year</th>\n",
       "      <th>User Plan</th>\n",
       "      <th>First Payment</th>\n",
       "      <th>Last Payment</th>\n",
       "      <th>Transaction Count</th>\n",
       "      <th>Total Spend</th>\n",
       "      <th>Processor</th>\n",
       "      <th>Customer Status</th>\n",
       "      <th>Clinic ID</th>\n",
       "      <th>Member Code</th>\n",
       "      <th>Member Status</th>\n",
       "    </tr>\n",
       "  </thead>\n",
       "  <tbody>\n",
       "    <tr>\n",
       "      <th>0</th>\n",
       "      <td>24Oes4471</td>\n",
       "      <td>F</td>\n",
       "      <td>91311.0</td>\n",
       "      <td>2018.0</td>\n",
       "      <td>1962.0</td>\n",
       "      <td>wellnessunlimited</td>\n",
       "      <td>10/25/2018</td>\n",
       "      <td>12/25/2018</td>\n",
       "      <td>4.0</td>\n",
       "      <td>596.0</td>\n",
       "      <td>Stripe</td>\n",
       "      <td>New</td>\n",
       "      <td>24</td>\n",
       "      <td>WUM</td>\n",
       "      <td>Active</td>\n",
       "    </tr>\n",
       "  </tbody>\n",
       "</table>\n",
       "</div>"
      ],
      "text/plain": [
       "         PID Gender  Zip Code  Patient Since  Birth Year          User Plan  \\\n",
       "0  24Oes4471      F   91311.0         2018.0      1962.0  wellnessunlimited   \n",
       "\n",
       "  First Payment Last Payment  Transaction Count  Total Spend Processor  \\\n",
       "0    10/25/2018   12/25/2018                4.0        596.0    Stripe   \n",
       "\n",
       "  Customer Status  Clinic ID Member Code Member Status  \n",
       "0             New         24         WUM        Active  "
      ]
     },
     "execution_count": 32,
     "metadata": {},
     "output_type": "execute_result"
    }
   ],
   "source": [
    "subscriberdata_df = file00_df.copy()\n",
    "subscriberdata_df.head(1)"
   ]
  },
  {
   "cell_type": "code",
   "execution_count": 33,
   "metadata": {},
   "outputs": [
    {
     "name": "stdout",
     "output_type": "stream",
     "text": [
      "Index(['PID', 'Gender', 'Zip Code', 'Patient Since', 'Birth Year', 'User Plan',\n",
      "       'First Payment', 'Last Payment', 'Transaction Count', 'Total Spend',\n",
      "       'Processor', 'Customer Status', 'Clinic ID', 'Member Code',\n",
      "       'Member Status'],\n",
      "      dtype='object')\n"
     ]
    }
   ],
   "source": [
    "print(subscriberdata_df.columns)"
   ]
  },
  {
   "cell_type": "code",
   "execution_count": 41,
   "metadata": {},
   "outputs": [],
   "source": [
    "subscriberdata_fixdf = subscriberdata_df.rename(columns={\n",
    "  'PID':'PID'\n",
    ", 'Gender':'GENDER'\n",
    ", 'Zip Code':'ZIP_CODE'\n",
    ", 'Patient Since':'PATIENT_SINCE_DATE'\n",
    ", 'Birth Year':'BIRTH_YEAR'\n",
    ", 'User Plan':'USER_PLAN'\n",
    ", 'First Payment':'FIRST_PAYMENT_DATE_PLAN'\n",
    ", 'Last Payment':'LAST_PAYMENT_DATE_PLAN'\n",
    ", 'Transaction Count':'TRANSACTION_COUNT'\n",
    ", 'Total Spend':'TOTAL_SPENT'\n",
    ", 'Processor':'PROCESSOR'\n",
    ", 'Customer Status':'CUSTOMER_STATUS'\n",
    ", 'Clinic ID':'CLINIC_ID'\n",
    ", 'Member Code':'MEMBER_CODE'\n",
    ", 'Member Status':'MEMBER_STATUS'\n",
    "                                                })"
   ]
  },
  {
   "cell_type": "code",
   "execution_count": 42,
   "metadata": {},
   "outputs": [
    {
     "data": {
      "text/plain": [
       "Index(['PID', 'GENDER', 'ZIP_CODE', 'PATIENT_SINCE_DATE', 'BIRTH_YEAR',\n",
       "       'USER_PLAN', 'FIRST_PAYMENT_DATE_PLAN', 'LAST_PAYMENT_DATE_PLAN',\n",
       "       'TRANSACTION_COUNT', 'TOTAL_SPENT', 'PROCESSOR', 'CUSTOMER_STATUS',\n",
       "       'CLINIC_ID', 'MEMBER_CODE', 'MEMBER_STATUS'],\n",
       "      dtype='object')"
      ]
     },
     "execution_count": 42,
     "metadata": {},
     "output_type": "execute_result"
    }
   ],
   "source": [
    "subscriberdata_fixdf.columns"
   ]
  },
  {
   "cell_type": "code",
   "execution_count": 39,
   "metadata": {},
   "outputs": [],
   "source": [
    "#subscriberdata_fixdf.to_csv('data\\subscriber_bigdata.csv')"
   ]
  },
  {
   "cell_type": "code",
   "execution_count": 43,
   "metadata": {},
   "outputs": [],
   "source": [
    "subscriberdata_fixdf.to_csv('data\\subscriber.csv')"
   ]
  },
  {
   "cell_type": "code",
   "execution_count": null,
   "metadata": {},
   "outputs": [],
   "source": []
  }
 ],
 "metadata": {
  "kernelspec": {
   "display_name": "Python [conda env:PythonData]",
   "language": "python",
   "name": "conda-env-PythonData-py"
  },
  "language_info": {
   "codemirror_mode": {
    "name": "ipython",
    "version": 3
   },
   "file_extension": ".py",
   "mimetype": "text/x-python",
   "name": "python",
   "nbconvert_exporter": "python",
   "pygments_lexer": "ipython3",
   "version": "3.6.5"
  }
 },
 "nbformat": 4,
 "nbformat_minor": 2
}
