{
 "cells": [
  {
   "cell_type": "markdown",
   "metadata": {},
   "source": [
    "###Churn/ Customer Retention Modeling"
   ]
  },
  {
   "cell_type": "markdown",
   "metadata": {},
   "source": [
    "##"
   ]
  },
  {
   "cell_type": "code",
   "execution_count": 305,
   "metadata": {},
   "outputs": [],
   "source": [
    "#Load in libraries\n",
    "library(dplyr)\n",
    "library(binr)\n",
    "library(OneR)\n",
    "library(ggplot2)\n",
    "library(GGally)\n",
    "library(car)\n",
    "library(reshape)\n",
    "library(devtools)\n",
    "library(openxlsx)\n",
    "library(zip)\n",
    "library(RColorBrewer)\n",
    "library(caret)\n",
    "library(e1071)\n",
    "library(pROC)\n",
    "library(plotly)\n",
    "library(crosstalk)\n",
    "# R.Version()"
   ]
  },
  {
   "cell_type": "code",
   "execution_count": 344,
   "metadata": {},
   "outputs": [],
   "source": [
    "# load in the data. The data was pre-cleaned with a mixture of python and R after querying the source data base.\n",
    "model_data <- read.csv('df_combined_012619.csv')"
   ]
  },
  {
   "cell_type": "code",
   "execution_count": 336,
   "metadata": {},
   "outputs": [],
   "source": [
    "model_data$pid <- as.integer(model_data$pid)"
   ]
  },
  {
   "cell_type": "code",
   "execution_count": 337,
   "metadata": {},
   "outputs": [
    {
     "name": "stdout",
     "output_type": "stream",
     "text": [
      "'data.frame':\t9925 obs. of  61 variables:\n",
      " $ X                              : int  1 2 3 4 5 6 7 8 9 10 ...\n",
      " $ pid                            : int  2539 9236 1027 1309 4303 5176 2753 5283 5308 3337 ...\n",
      " $ birth.year                     : Factor w/ 7430 levels \"1918-01-15\",\"1918-01-24\",..: 2828 1379 1151 3493 4423 7082 2433 2889 103 1699 ...\n",
      " $ first.payment                  : Factor w/ 288 levels \"2018-01-17\",\"2018-01-24\",..: 231 112 NA 253 133 227 122 153 152 68 ...\n",
      " $ last.payment                   : Factor w/ 3015 levels \"2018-01-17 00:00:00\",..: 1803 759 243 2026 2136 1457 2587 1796 999 2420 ...\n",
      " $ transaction.count              : int  4 8 NA 3 8 4 8 6 7 11 ...\n",
      " $ total.spend                    : num  596 392 NA 447 792 ...\n",
      " $ processor                      : Factor w/ 2 levels \"Square\",\"Stripe\": 2 2 2 2 2 2 2 2 2 2 ...\n",
      " $ customer.status                : Factor w/ 2 levels \"Existing\",\"New\": 2 1 2 1 1 2 2 1 2 1 ...\n",
      " $ clinic.id                      : int  24 9 17 19 33 40 25 40 40 27 ...\n",
      " $ member.code                    : Factor w/ 4 levels \"BWM\",\"BWM29\",..: 4 1 1 4 3 1 1 1 3 3 ...\n",
      " $ member.status                  : Factor w/ 2 levels \"Active\",\"Cancel\": 1 1 2 1 1 1 1 1 1 1 ...\n",
      " $ membership                     : Factor w/ 3 levels \"BWM\",\"WPM\",\"WUM\": 3 1 1 3 2 1 1 1 2 2 ...\n",
      " $ num_visits_2                   : int  0 0 0 0 0 0 0 0 0 0 ...\n",
      " $ num_visits_3                   : int  0 2 0 0 0 0 0 0 0 0 ...\n",
      " $ num_visits_4                   : int  0 1 0 0 0 0 0 0 0 9 ...\n",
      " $ num_visits_5                   : int  0 0 4 0 0 0 0 0 0 11 ...\n",
      " $ num_visits_6                   : int  0 1 3 0 0 0 3 0 0 10 ...\n",
      " $ num_visits_7                   : int  0 0 5 0 8 0 4 2 4 4 ...\n",
      " $ num_visits_8                   : int  0 0 0 0 0 0 5 2 15 1 ...\n",
      " $ num_visits_9                   : int  0 0 0 0 0 0 0 10 10 2 ...\n",
      " $ num_visits_10                  : int  3 0 0 0 0 1 2 1 9 1 ...\n",
      " $ num_visits_11                  : int  16 0 0 1 0 10 0 0 5 3 ...\n",
      " $ num_visits_12                  : int  18 0 0 18 0 17 0 5 1 2 ...\n",
      " $ weightchange_2                 : num  0 0 0 0 0 0 0 0 0 0 ...\n",
      " $ weightchange_3                 : num  0 0 0 0 0 0 0 0 0 0 ...\n",
      " $ weightchange_4                 : num  0 0 0 0 0 0 0 0 0 -7.4 ...\n",
      " $ weightchange_5                 : num  0 0 -0.4 0 0 0 0 0 0 -4.7 ...\n",
      " $ weightchange_6                 : num  0 0 -0.4 0 0 0 -1.2 0 0 -5.4 ...\n",
      " $ weightchange_7                 : num  0 0 -0.3 0 -2 0 -0.9 -2.3 -1.2 -1 ...\n",
      " $ weightchange_8                 : num  0 0 0 0 0 0 1.7 -1.1 -5 0 ...\n",
      " $ weightchange_9                 : num  0 0 0 0 0 0 0 -2.7 -1.7 -0.7 ...\n",
      " $ weightchange_10                : num  -3.8 0 0 0 0 0 0.7 0 -1.4 0 ...\n",
      " $ weightchange_11                : num  -10.2 0 0 0 0 -15.1 0 0 -0.1 0.7 ...\n",
      " $ weightchange_12                : num  -6.7 0 0 -10.2 0 -5.4 0 -4.5 0 0 ...\n",
      " $ monthly_initial_visit_weight_2 : num  0 0 0 0 0 0 0 0 0 0 ...\n",
      " $ monthly_initial_visit_weight_3 : num  0 197 0 0 0 ...\n",
      " $ monthly_initial_visit_weight_4 : num  0 197 0 0 0 ...\n",
      " $ monthly_initial_visit_weight_5 : num  0 0 161 0 0 ...\n",
      " $ monthly_initial_visit_weight_6 : num  0 191 163 0 0 ...\n",
      " $ monthly_initial_visit_weight_7 : num  0 0 163 0 169 ...\n",
      " $ monthly_initial_visit_weight_8 : num  0 0 0 0 0 ...\n",
      " $ monthly_initial_visit_weight_9 : num  0 0 0 0 0 ...\n",
      " $ monthly_initial_visit_weight_10: num  250 0 0 0 0 ...\n",
      " $ monthly_initial_visit_weight_11: num  244 0 0 201 0 ...\n",
      " $ monthly_initial_visit_weight_12: num  234 0 0 201 0 ...\n",
      " $ months_0orno_visits            : int  8 8 8 9 10 8 7 6 5 2 ...\n",
      " $ first_month_0_visits           : int  1 1 1 1 1 1 1 1 1 1 ...\n",
      " $ consec_0_visits                : num  8 6 5 9 5 8 4 5 5 2 ...\n",
      " $ consec_0_visits_v2             : int  0 1 1 0 1 0 0 0 0 0 ...\n",
      " $ first_month_visited            : int  9 2 4 10 6 9 5 6 6 3 ...\n",
      " $ firstpay_index                 : int  9 5 4 10 5 9 5 6 6 3 ...\n",
      " $ churn_v2                       : int  0 1 1 0 1 0 0 0 0 0 ...\n",
      " $ avg_visits                     : num  3.364 0.364 1.091 1.727 0.727 ...\n",
      " $ first_month_weightlost         : int  0 NA 0 1 0 1 0 0 0 0 ...\n",
      " $ first_month_weightlost_10      : int  1 NA NA 1 NA 1 NA NA NA NA ...\n",
      " $ first_month_weightgain         : int  NA NA NA NA NA NA 2 NA NA NA ...\n",
      " $ first_month_weightgain_10      : int  NA NA NA NA NA NA NA NA NA NA ...\n",
      " $ avg_weight_change              : num  -1.882 0 -0.1 -0.927 -0.182 ...\n",
      " $ stdev_visits                   : num  6.816 0.674 1.921 5.405 2.412 ...\n",
      " $ stdev_weight_change            : num  3.527 0 0.173 3.075 0.603 ...\n"
     ]
    }
   ],
   "source": [
    "str(model_data)"
   ]
  },
  {
   "cell_type": "code",
   "execution_count": 382,
   "metadata": {},
   "outputs": [],
   "source": [
    "model_data$avg_visits <- apply(select(model_data,starts_with(\"num_visits\")),\n",
    "                               1,function(x) mean(x,na.rm = TRUE))\n",
    "\n",
    "model_data$first_month_weightlost <- apply(select(model_data,starts_with(\"weightchange\")),\n",
    "                                            1,function(x) which(x < 0)[1]) - model_data$first_month_visited + 1\n",
    "\n",
    "model_data$first_month_weightlost_10 <- apply(select(model_data,starts_with(\"weightchange\")),\n",
    "                                               1,function(x) which(x <= -10)[1]) - model_data$first_month_visited + 1\n",
    "\n",
    "\n",
    "model_data$first_month_weightgain <- apply(select(model_data,starts_with(\"weightchange\")),\n",
    "                                            1,function(x) which(x > 1)[1]) - model_data$first_month_visited + 1\n",
    "\n",
    "\n",
    "model_data$first_month_weightgain_10 <- apply(select(model_data,starts_with(\"weightchange\")),\n",
    "                                               1,function(x) which(x >= 10)[1]) - model_data$first_month_visited + 1\n",
    "\n",
    "model_data$avg_weight_change <- apply(select(model_data,starts_with(\"weightchange\")),\n",
    "                                       1,function(x) mean(x,na.rm = TRUE))\n",
    "\n",
    "model_data$stdev_visits <- apply(select(model_data,starts_with(\"num_visits\")),\n",
    "                                  1,function(x) sd(x,na.rm = TRUE))\n",
    "\n",
    "model_data$stdev_weight_change <- apply(select(model_data,starts_with(\"weightchange\")),\n",
    "                                         1,function(x) sd(x,na.rm = TRUE))"
   ]
  },
  {
   "cell_type": "code",
   "execution_count": 345,
   "metadata": {},
   "outputs": [],
   "source": [
    "model_data_discrete$pid <- model_data$pid"
   ]
  },
  {
   "cell_type": "raw",
   "metadata": {},
   "source": [
    "str(model_data_discrete)"
   ]
  },
  {
   "cell_type": "code",
   "execution_count": 340,
   "metadata": {},
   "outputs": [
    {
     "data": {
      "text/html": [
       "9562"
      ],
      "text/latex": [
       "9562"
      ],
      "text/markdown": [
       "9562"
      ],
      "text/plain": [
       "[1] 9562"
      ]
     },
     "metadata": {},
     "output_type": "display_data"
    }
   ],
   "source": [
    "length(unique(model_data_discrete$pid))"
   ]
  },
  {
   "cell_type": "code",
   "execution_count": 422,
   "metadata": {},
   "outputs": [
    {
     "data": {
      "text/html": [
       "<ol class=list-inline>\n",
       "\t<li>10189</li>\n",
       "\t<li>27</li>\n",
       "</ol>\n"
      ],
      "text/latex": [
       "\\begin{enumerate*}\n",
       "\\item 10189\n",
       "\\item 27\n",
       "\\end{enumerate*}\n"
      ],
      "text/markdown": [
       "1. 10189\n",
       "2. 27\n",
       "\n",
       "\n"
      ],
      "text/plain": [
       "[1] 10189    27"
      ]
     },
     "metadata": {},
     "output_type": "display_data"
    }
   ],
   "source": [
    "dim(model_data_discrete)"
   ]
  },
  {
   "cell_type": "code",
   "execution_count": 412,
   "metadata": {},
   "outputs": [
    {
     "data": {
      "text/html": [
       "<table>\n",
       "<thead><tr><th scope=col>X.1</th><th scope=col>X</th><th scope=col>pid</th><th scope=col>birth.year</th><th scope=col>first.payment</th><th scope=col>last.payment</th><th scope=col>transaction.count</th><th scope=col>total.spend</th><th scope=col>processor</th><th scope=col>customer.status</th><th scope=col>...</th><th scope=col>first_month_0_visits</th><th scope=col>consec_0_visits</th><th scope=col>consec_0_visits_v2</th><th scope=col>first_month_visited</th><th scope=col>firstpay_index</th><th scope=col>churn_v2</th><th scope=col>visitsuntil_weightlost</th><th scope=col>visitsuntil_weightlost_factor</th><th scope=col>pid2</th><th scope=col>gender</th></tr></thead>\n",
       "<tbody>\n",
       "\t<tr><td>1                  </td><td>1                  </td><td>24Oes9064          </td><td>1962-04-26         </td><td>2018-10-25         </td><td>2018-12-25 18:13:00</td><td> 4                 </td><td>596                </td><td>Stripe             </td><td>New                </td><td>...                </td><td>1                  </td><td>8                  </td><td>0                  </td><td> 9                 </td><td> 9                 </td><td>NoChurn            </td><td> 1                 </td><td>1                  </td><td>24OesM4471         </td><td>F                  </td></tr>\n",
       "\t<tr><td>2                  </td><td>2                  </td><td>9Coy9025           </td><td>1954-06-14         </td><td>2018-06-01         </td><td>2018-12-01 18:39:00</td><td> 8                 </td><td>392                </td><td>Stripe             </td><td>Existing           </td><td>...                </td><td>1                  </td><td>6                  </td><td>1                  </td><td> 2                 </td><td> 5                 </td><td>Churn              </td><td>-1                 </td><td>Didnt Lose Weight  </td><td>9CoyA5182          </td><td>F                  </td></tr>\n",
       "\t<tr><td>3                  </td><td>3                  </td><td>17Abo9059          </td><td>1952-12-07         </td><td>NA                 </td><td>2018-06-18 16:41:00</td><td>NA                 </td><td> NA                </td><td>Stripe             </td><td>New                </td><td>...                </td><td>1                  </td><td>5                  </td><td>1                  </td><td> 4                 </td><td> 4                 </td><td>Churn              </td><td> 1                 </td><td>1                  </td><td>17AboS9791         </td><td>F                  </td></tr>\n",
       "\t<tr><td>4                  </td><td>4                  </td><td>19Bar1443          </td><td>1965-06-07         </td><td>2018-11-28         </td><td>2018-12-28 17:03:00</td><td> 3                 </td><td>447                </td><td>Stripe             </td><td>Existing           </td><td>...                </td><td>1                  </td><td>9                  </td><td>0                  </td><td>10                 </td><td>10                 </td><td>NoChurn            </td><td> 2                 </td><td>2 to 3             </td><td>19BarM4357         </td><td>F                  </td></tr>\n",
       "\t<tr><td>5                  </td><td>5                  </td><td>33Fai3547          </td><td>1969-12-09         </td><td>2018-06-29         </td><td>2018-12-29 20:04:00</td><td> 8                 </td><td>792                </td><td>Stripe             </td><td>Existing           </td><td>...                </td><td>1                  </td><td>5                  </td><td>1                  </td><td> 6                 </td><td> 5                 </td><td>Churn              </td><td> 1                 </td><td>1                  </td><td>33FaiK4793         </td><td>F                  </td></tr>\n",
       "\t<tr><td>6                  </td><td>6                  </td><td>40Gra9064          </td><td>1993-10-31         </td><td>2018-10-19         </td><td>2018-12-19 19:28:00</td><td> 4                 </td><td>247                </td><td>Stripe             </td><td>New                </td><td>...                </td><td>1                  </td><td>8                  </td><td>0                  </td><td> 9                 </td><td> 9                 </td><td>NoChurn            </td><td> 2                 </td><td>2 to 3             </td><td>40GraK4623         </td><td>F                  </td></tr>\n",
       "</tbody>\n",
       "</table>\n"
      ],
      "text/latex": [
       "\\begin{tabular}{r|llllllllllllllllllllllllllllllllllllllllllllllllllllllllll}\n",
       " X.1 & X & pid & birth.year & first.payment & last.payment & transaction.count & total.spend & processor & customer.status & ... & first\\_month\\_0\\_visits & consec\\_0\\_visits & consec\\_0\\_visits\\_v2 & first\\_month\\_visited & firstpay\\_index & churn\\_v2 & visitsuntil\\_weightlost & visitsuntil\\_weightlost\\_factor & pid2 & gender\\\\\n",
       "\\hline\n",
       "\t 1                   & 1                   & 24Oes9064           & 1962-04-26          & 2018-10-25          & 2018-12-25 18:13:00 &  4                  & 596                 & Stripe              & New                 & ...                 & 1                   & 8                   & 0                   &  9                  &  9                  & NoChurn             &  1                  & 1                   & 24OesM4471          & F                  \\\\\n",
       "\t 2                   & 2                   & 9Coy9025            & 1954-06-14          & 2018-06-01          & 2018-12-01 18:39:00 &  8                  & 392                 & Stripe              & Existing            & ...                 & 1                   & 6                   & 1                   &  2                  &  5                  & Churn               & -1                  & Didnt Lose Weight   & 9CoyA5182           & F                  \\\\\n",
       "\t 3                   & 3                   & 17Abo9059           & 1952-12-07          & NA                  & 2018-06-18 16:41:00 & NA                  &  NA                 & Stripe              & New                 & ...                 & 1                   & 5                   & 1                   &  4                  &  4                  & Churn               &  1                  & 1                   & 17AboS9791          & F                  \\\\\n",
       "\t 4                   & 4                   & 19Bar1443           & 1965-06-07          & 2018-11-28          & 2018-12-28 17:03:00 &  3                  & 447                 & Stripe              & Existing            & ...                 & 1                   & 9                   & 0                   & 10                  & 10                  & NoChurn             &  2                  & 2 to 3              & 19BarM4357          & F                  \\\\\n",
       "\t 5                   & 5                   & 33Fai3547           & 1969-12-09          & 2018-06-29          & 2018-12-29 20:04:00 &  8                  & 792                 & Stripe              & Existing            & ...                 & 1                   & 5                   & 1                   &  6                  &  5                  & Churn               &  1                  & 1                   & 33FaiK4793          & F                  \\\\\n",
       "\t 6                   & 6                   & 40Gra9064           & 1993-10-31          & 2018-10-19          & 2018-12-19 19:28:00 &  4                  & 247                 & Stripe              & New                 & ...                 & 1                   & 8                   & 0                   &  9                  &  9                  & NoChurn             &  2                  & 2 to 3              & 40GraK4623          & F                  \\\\\n",
       "\\end{tabular}\n"
      ],
      "text/markdown": [
       "\n",
       "X.1 | X | pid | birth.year | first.payment | last.payment | transaction.count | total.spend | processor | customer.status | ... | first_month_0_visits | consec_0_visits | consec_0_visits_v2 | first_month_visited | firstpay_index | churn_v2 | visitsuntil_weightlost | visitsuntil_weightlost_factor | pid2 | gender | \n",
       "|---|---|---|---|---|---|\n",
       "| 1                   | 1                   | 24Oes9064           | 1962-04-26          | 2018-10-25          | 2018-12-25 18:13:00 |  4                  | 596                 | Stripe              | New                 | ...                 | 1                   | 8                   | 0                   |  9                  |  9                  | NoChurn             |  1                  | 1                   | 24OesM4471          | F                   | \n",
       "| 2                   | 2                   | 9Coy9025            | 1954-06-14          | 2018-06-01          | 2018-12-01 18:39:00 |  8                  | 392                 | Stripe              | Existing            | ...                 | 1                   | 6                   | 1                   |  2                  |  5                  | Churn               | -1                  | Didnt Lose Weight   | 9CoyA5182           | F                   | \n",
       "| 3                   | 3                   | 17Abo9059           | 1952-12-07          | NA                  | 2018-06-18 16:41:00 | NA                  |  NA                 | Stripe              | New                 | ...                 | 1                   | 5                   | 1                   |  4                  |  4                  | Churn               |  1                  | 1                   | 17AboS9791          | F                   | \n",
       "| 4                   | 4                   | 19Bar1443           | 1965-06-07          | 2018-11-28          | 2018-12-28 17:03:00 |  3                  | 447                 | Stripe              | Existing            | ...                 | 1                   | 9                   | 0                   | 10                  | 10                  | NoChurn             |  2                  | 2 to 3              | 19BarM4357          | F                   | \n",
       "| 5                   | 5                   | 33Fai3547           | 1969-12-09          | 2018-06-29          | 2018-12-29 20:04:00 |  8                  | 792                 | Stripe              | Existing            | ...                 | 1                   | 5                   | 1                   |  6                  |  5                  | Churn               |  1                  | 1                   | 33FaiK4793          | F                   | \n",
       "| 6                   | 6                   | 40Gra9064           | 1993-10-31          | 2018-10-19          | 2018-12-19 19:28:00 |  4                  | 247                 | Stripe              | New                 | ...                 | 1                   | 8                   | 0                   |  9                  |  9                  | NoChurn             |  2                  | 2 to 3              | 40GraK4623          | F                   | \n",
       "\n",
       "\n"
      ],
      "text/plain": [
       "  X.1 X pid       birth.year first.payment last.payment       \n",
       "1 1   1 24Oes9064 1962-04-26 2018-10-25    2018-12-25 18:13:00\n",
       "2 2   2 9Coy9025  1954-06-14 2018-06-01    2018-12-01 18:39:00\n",
       "3 3   3 17Abo9059 1952-12-07 NA            2018-06-18 16:41:00\n",
       "4 4   4 19Bar1443 1965-06-07 2018-11-28    2018-12-28 17:03:00\n",
       "5 5   5 33Fai3547 1969-12-09 2018-06-29    2018-12-29 20:04:00\n",
       "6 6   6 40Gra9064 1993-10-31 2018-10-19    2018-12-19 19:28:00\n",
       "  transaction.count total.spend processor customer.status ...\n",
       "1  4                596         Stripe    New             ...\n",
       "2  8                392         Stripe    Existing        ...\n",
       "3 NA                 NA         Stripe    New             ...\n",
       "4  3                447         Stripe    Existing        ...\n",
       "5  8                792         Stripe    Existing        ...\n",
       "6  4                247         Stripe    New             ...\n",
       "  first_month_0_visits consec_0_visits consec_0_visits_v2 first_month_visited\n",
       "1 1                    8               0                   9                 \n",
       "2 1                    6               1                   2                 \n",
       "3 1                    5               1                   4                 \n",
       "4 1                    9               0                  10                 \n",
       "5 1                    5               1                   6                 \n",
       "6 1                    8               0                   9                 \n",
       "  firstpay_index churn_v2 visitsuntil_weightlost visitsuntil_weightlost_factor\n",
       "1  9             NoChurn   1                     1                            \n",
       "2  5             Churn    -1                     Didnt Lose Weight            \n",
       "3  4             Churn     1                     1                            \n",
       "4 10             NoChurn   2                     2 to 3                       \n",
       "5  5             Churn     1                     1                            \n",
       "6  9             NoChurn   2                     2 to 3                       \n",
       "  pid2       gender\n",
       "1 24OesM4471 F     \n",
       "2 9CoyA5182  F     \n",
       "3 17AboS9791 F     \n",
       "4 19BarM4357 F     \n",
       "5 33FaiK4793 F     \n",
       "6 40GraK4623 F     "
      ]
     },
     "metadata": {},
     "output_type": "display_data"
    }
   ],
   "source": [
    "#read in new data with gender added\n",
    "gender_data <- read.csv('datawithgenderbothpids.csv', stringsAsFactors = FALSE)\n",
    "head(gender_data)"
   ]
  },
  {
   "cell_type": "code",
   "execution_count": 415,
   "metadata": {},
   "outputs": [
    {
     "name": "stderr",
     "output_type": "stream",
     "text": [
      "Warning message:\n",
      "\"Column `pid` joining factor and character vector, coercing into character vector\""
     ]
    }
   ],
   "source": [
    "#joining in gender data and corrected primary key\n",
    "model_data_discrete <- left_join(model_data_discrete, gender_data[,c('pid','pid2','gender','visitsuntil_weightlost_factor')], by = 'pid')"
   ]
  },
  {
   "cell_type": "code",
   "execution_count": 453,
   "metadata": {},
   "outputs": [],
   "source": [
    "# str(model_data_discrete$gender)\n",
    "# model_data_discrete$gender <- tolower(model_data_discrete$gender)\n",
    "# model_data_discrete$gender <- ifelse(model_data_discrete$gender == 'm','Male','Female')\n",
    "model_data_discrete$gender <- as.factor(model_data_discrete$gender)\n"
   ]
  },
  {
   "cell_type": "code",
   "execution_count": 458,
   "metadata": {},
   "outputs": [],
   "source": [
    "model_data_discrete <- model_data_discrete[!is.na(model_data_discrete$gender),]"
   ]
  },
  {
   "cell_type": "code",
   "execution_count": 423,
   "metadata": {
    "scrolled": true
   },
   "outputs": [
    {
     "name": "stdout",
     "output_type": "stream",
     "text": [
      "'data.frame':\t9562 obs. of  27 variables:\n",
      " $ pid                          : chr  \"24Oes9064\" \"9Coy9025\" \"17Abo9059\" \"19Bar1443\" ...\n",
      " $ avg_weight_change            : num  -1.882 0 -0.1 -0.927 -0.182 ...\n",
      " $ avg_visits                   : num  3.364 0.364 1.091 1.727 0.727 ...\n",
      " $ stdev_weight_change          : num  3.527 0 0.173 3.075 0.603 ...\n",
      " $ stdev_visits                 : num  6.816 0.674 1.921 5.405 2.412 ...\n",
      " $ consec_0_visits_v2           : int  0 1 1 0 1 0 0 0 0 0 ...\n",
      " $ first_month_weightlost       : num  0 0 0 1 0 1 0 0 0 0 ...\n",
      " $ first_month_weightgain       : num  0 0 0 0 0 0 2 0 0 0 ...\n",
      " $ membership                   : Factor w/ 3 levels \"BWM\",\"WPM\",\"WUM\": 3 1 1 3 2 1 1 1 2 2 ...\n",
      " $ processor                    : Factor w/ 2 levels \"Square\",\"Stripe\": 2 2 2 2 2 2 2 2 2 2 ...\n",
      " $ total.spend                  : num  596 392 0 447 792 ...\n",
      " $ birth.year                   : Factor w/ 7430 levels \"1918-01-15\",\"1918-01-24\",..: 2828 1379 1151 3493 4423 7082 2433 2889 103 1699 ...\n",
      " $ churn_v2                     : Factor w/ 2 levels \"No Churn\",\"Churn\": 1 2 2 1 2 1 1 1 1 1 ...\n",
      " $ birthyear_factor             : num  1962 1954 1952 1965 1969 ...\n",
      " $ generation                   : Factor w/ 6 levels \"Baby Boomers\",..: 1 1 1 2 2 4 1 1 5 1 ...\n",
      " $ avg_weight_change binned     : Factor w/ 5 levels \"0 to 25\",\"-0.6 to -0.1\",..: 5 1 2 3 2 5 1 3 3 4 ...\n",
      " $ avg_visits binned            : Factor w/ 5 levels \"0 to 1.18\",\"1.18 to 2.27\",..: 3 1 1 2 1 3 2 2 4 4 ...\n",
      " $ stdev_weight_change binned   : Factor w/ 5 levels \"(-0.0861,1.29]\",..: 4 1 1 4 1 5 1 2 2 4 ...\n",
      " $ stdev_visits binned          : Factor w/ 5 levels \"(-0.0177,1.69]\",..: 5 1 2 4 2 4 2 3 4 3 ...\n",
      " $ first_month_weightlost binned: Factor w/ 3 levels \"0\",\"1\",\"2 to 10\": 1 1 1 2 1 2 1 1 1 1 ...\n",
      " $ first_month_weightgain binned: Factor w/ 3 levels \"0\",\"1 to 3\",\"4 to 10\": 1 1 1 1 1 1 2 1 1 1 ...\n",
      " $ total.spend binned           : Factor w/ 5 levels \"(-4.52,319]\",..: 4 3 1 3 4 1 3 1 4 5 ...\n",
      " $ predicted_glm_NoChurn        : num  0.871 0.685 0.482 0.813 0.524 ...\n",
      " $ predicted_glm_Churn          : num  0.129 0.315 0.518 0.187 0.476 ...\n",
      " $ pid2                         : chr  \"24OesM4471\" \"9CoyA5182\" \"17AboS9791\" \"19BarM4357\" ...\n",
      " $ gender                       : chr  \"F\" \"F\" \"F\" \"F\" ...\n",
      " $ visitsuntil_weightlost_factor: chr  \"1\" \"Didnt Lose Weight\" \"1\" \"2 to 3\" ...\n"
     ]
    }
   ],
   "source": [
    "#Some duplicates remained so need to remove them\n",
    "model_data_discrete <- model_data_discrete[!duplicated(model_data_discrete$pid),]\n",
    "str(model_data_discrete)"
   ]
  },
  {
   "cell_type": "code",
   "execution_count": 224,
   "metadata": {},
   "outputs": [],
   "source": [
    "#Create a generation variable\n",
    "model_data_discrete$generation <- as.factor(ifelse(is.na(model_data_discrete$birthyear_factor), \"Gen X\",ifelse(\n",
    "  model_data_discrete$birthyear_factor <= 1945, \"Silent\",ifelse(\n",
    "  model_data_discrete$birthyear_factor <= 1964, \"Baby Boomers\",\n",
    "  ifelse(    model_data_discrete$birthyear_factor <= 1979, \"Gen X\",\n",
    "             ifelse(\n",
    "               model_data_discrete$birthyear_factor <= 1985, \"Xennials\",\n",
    "               ifelse(\n",
    "                 model_data_discrete$birthyear_factor <= 1994, \"Millennials\",\n",
    "                 ifelse(\n",
    "                   model_data_discrete$birthyear_factor <= 2012, \"iGen\",\"Other\"))))))))"
   ]
  },
  {
   "cell_type": "code",
   "execution_count": 283,
   "metadata": {},
   "outputs": [],
   "source": [
    "#Discretize the data into bins\n",
    "model_data_discrete <- model_data %>% select (pid,avg_weight_change,avg_visits, stdev_weight_change,stdev_visits,\n",
    "                                              consec_0_visits_v2,first_month_weightlost, first_month_weightgain, membership, processor,\n",
    "                                              total.spend,birth.year,churn_v2)\n",
    "\n",
    "model_data_discrete$birthyear_factor <- as.integer(substr(model_data_discrete$birth.year,1,4))\n",
    "\n",
    "\n",
    "#Filling in NAs with 0s\n",
    "model_data_discrete[is.na(model_data_discrete)] <- -1 \n",
    "model_data_discrete$churn_v2 <- as.factor(ifelse(model_data_discrete$churn_v2 == 0, 'No Churn', 'Churn'))\n",
    "\n"
   ]
  },
  {
   "cell_type": "code",
   "execution_count": 384,
   "metadata": {},
   "outputs": [
    {
     "data": {
      "text/plain": [
       "        pid       avg_weight_change    avg_visits       stdev_weight_change\n",
       " 10Agu9063:   1   Min.   :-14.3545   Min.   : 0.09091   Min.   : 0.000     \n",
       " 10Ala9061:   1   1st Qu.: -1.6000   1st Qu.: 1.45454   1st Qu.: 1.475     \n",
       " 10Ale9027:   1   Median : -0.8364   Median : 2.90909   Median : 2.366     \n",
       " 10Alv8979:   1   Mean   : -1.0364   Mean   : 3.62450   Mean   : 2.551     \n",
       " 10Alv9061:   1   3rd Qu.: -0.2455   3rd Qu.: 5.00000   3rd Qu.: 3.347     \n",
       " 10Ama9065:   1   Max.   : 25.3091   Max.   :31.00000   Max.   :86.087     \n",
       " (Other)  :9556                                                            \n",
       "  stdev_visits    consec_0_visits_v2 first_month_weightlost\n",
       " Min.   : 0.000   Min.   :0.000      Min.   : 0.0000       \n",
       " 1st Qu.: 1.969   1st Qu.:0.000      1st Qu.: 0.0000       \n",
       " Median : 3.668   Median :0.000      Median : 0.0000       \n",
       " Mean   : 3.920   Mean   :0.189      Mean   : 0.5818       \n",
       " 3rd Qu.: 5.584   3rd Qu.:0.000      3rd Qu.: 1.0000       \n",
       " Max.   :17.677   Max.   :1.000      Max.   :10.0000       \n",
       "                                                           \n",
       " first_month_weightgain membership  processor     total.spend    \n",
       " Min.   : 0.00          BWM:2410   Square:3624   Min.   :   0.0  \n",
       " 1st Qu.: 0.00          WPM:3525   Stripe:5938   1st Qu.: 354.5  \n",
       " Median : 0.00          WUM:3627                 Median : 745.0  \n",
       " Mean   : 1.46                                   Mean   : 785.5  \n",
       " 3rd Qu.: 3.00                                   3rd Qu.:1089.0  \n",
       " Max.   :10.00                                   Max.   :4516.0  \n",
       "                                                                 \n",
       "      birth.year       churn_v2    birthyear_factor        generation  \n",
       " 1966-12-10:   6   No Churn:7423   Min.   :   0     Baby Boomers:4086  \n",
       " 1969-02-17:   6   Churn   :2139   1st Qu.:1957     Gen X       :3578  \n",
       " 1961-12-29:   5                   Median :1965     iGen        : 276  \n",
       " 1964-08-26:   5                   Mean   :1966     Millennials : 568  \n",
       " 1965-07-30:   5                   3rd Qu.:1974     Silent      : 402  \n",
       " (Other)   :9532                   Max.   :2007     Xennials    : 652  \n",
       " NA's      :   3                                                       \n",
       "   avg_weight_change binned    avg_visits binned  stdev_weight_change binned\n",
       " 0 to 25       :1906        0 to 1.18   :1833    (-0.0861,1.29]:1943        \n",
       " -0.6 to -0.1  :1937        1.18 to 2.27:1905    (1.29,2.03]   :1926        \n",
       " -1.12 to -.6  :1968        2.27 to 3.73:2098    (2.03,2.74]   :1925        \n",
       " -1.85 to -1.12:1902        3.73 to 5.65:1889    (2.74,3.65]   :1928        \n",
       " -14.4 to -1.85:1849        5.65 to 31  :1837    (3.65,86.2]   :1840        \n",
       "                                                                            \n",
       "                                                                            \n",
       "     stdev_visits binned first_month_weightlost binned\n",
       " (-0.0177,1.69]:1944     0      :6593                 \n",
       " (1.69,3.01]   :1925     1      :1986                 \n",
       " (3.01,4.43]   :1925     2 to 10: 983                 \n",
       " (4.43,6.11]   :1921                                  \n",
       " (6.11,17.7]   :1847                                  \n",
       "                                                      \n",
       "                                                      \n",
       " first_month_weightgain binned           total.spend binned\n",
       " 0      :5944                  (-4.52,319]        :2256    \n",
       " 1 to 3 :1885                  (1.19e+03,4.52e+03]:2192    \n",
       " 4 to 10:1733                  (319,594]          :1815    \n",
       "                               (594,894]          :1916    \n",
       "                               (894,1.19e+03]     :1383    \n",
       "                                                           \n",
       "                                                           \n",
       " predicted_glm_NoChurn predicted_glm_Churn\n",
       " Min.   :0.1639        Min.   :0.004774   \n",
       " 1st Qu.:0.6472        1st Qu.:0.067140   \n",
       " Median :0.8247        Median :0.175341   \n",
       " Mean   :0.7764        Mean   :0.223605   \n",
       " 3rd Qu.:0.9329        3rd Qu.:0.352771   \n",
       " Max.   :0.9952        Max.   :0.836108   \n",
       "                                          "
      ]
     },
     "metadata": {},
     "output_type": "display_data"
    }
   ],
   "source": [
    "summary(model_data_discrete)"
   ]
  },
  {
   "cell_type": "code",
   "execution_count": 143,
   "metadata": {},
   "outputs": [],
   "source": [
    "#Merge the binned groups with the original data\n",
    "test <- as.data.frame(apply(model_data_discrete[2:8],2,function(x) bin(x,nbins =5, method = \"content\")))\n",
    "names(test) <- paste(names(test),\"binned\")\n",
    "model_data_discrete <- cbind(model_data_discrete, test)\n",
    "model_data_discrete$churn_v2 <- as.factor(model_data_discrete$churn_v2)\n",
    "                            \n",
    "levels(model_data_discrete$churn_v2) <- c(\"Churn\",\"NoChurn\")"
   ]
  },
  {
   "cell_type": "code",
   "execution_count": 416,
   "metadata": {},
   "outputs": [
    {
     "name": "stdout",
     "output_type": "stream",
     "text": [
      "'data.frame':\t10189 obs. of  27 variables:\n",
      " $ pid                          : chr  \"24Oes9064\" \"9Coy9025\" \"17Abo9059\" \"19Bar1443\" ...\n",
      " $ avg_weight_change            : num  -1.882 0 -0.1 -0.927 -0.182 ...\n",
      " $ avg_visits                   : num  3.364 0.364 1.091 1.727 0.727 ...\n",
      " $ stdev_weight_change          : num  3.527 0 0.173 3.075 0.603 ...\n",
      " $ stdev_visits                 : num  6.816 0.674 1.921 5.405 2.412 ...\n",
      " $ consec_0_visits_v2           : int  0 1 1 0 1 0 0 0 0 0 ...\n",
      " $ first_month_weightlost       : num  0 0 0 1 0 1 0 0 0 0 ...\n",
      " $ first_month_weightgain       : num  0 0 0 0 0 0 2 0 0 0 ...\n",
      " $ membership                   : Factor w/ 3 levels \"BWM\",\"WPM\",\"WUM\": 3 1 1 3 2 1 1 1 2 2 ...\n",
      " $ processor                    : Factor w/ 2 levels \"Square\",\"Stripe\": 2 2 2 2 2 2 2 2 2 2 ...\n",
      " $ total.spend                  : num  596 392 0 447 792 ...\n",
      " $ birth.year                   : Factor w/ 7430 levels \"1918-01-15\",\"1918-01-24\",..: 2828 1379 1151 3493 4423 7082 2433 2889 103 1699 ...\n",
      " $ churn_v2                     : Factor w/ 2 levels \"No Churn\",\"Churn\": 1 2 2 1 2 1 1 1 1 1 ...\n",
      " $ birthyear_factor             : num  1962 1954 1952 1965 1969 ...\n",
      " $ generation                   : Factor w/ 6 levels \"Baby Boomers\",..: 1 1 1 2 2 4 1 1 5 1 ...\n",
      " $ avg_weight_change binned     : Factor w/ 5 levels \"0 to 25\",\"-0.6 to -0.1\",..: 5 1 2 3 2 5 1 3 3 4 ...\n",
      " $ avg_visits binned            : Factor w/ 5 levels \"0 to 1.18\",\"1.18 to 2.27\",..: 3 1 1 2 1 3 2 2 4 4 ...\n",
      " $ stdev_weight_change binned   : Factor w/ 5 levels \"(-0.0861,1.29]\",..: 4 1 1 4 1 5 1 2 2 4 ...\n",
      " $ stdev_visits binned          : Factor w/ 5 levels \"(-0.0177,1.69]\",..: 5 1 2 4 2 4 2 3 4 3 ...\n",
      " $ first_month_weightlost binned: Factor w/ 3 levels \"0\",\"1\",\"2 to 10\": 1 1 1 2 1 2 1 1 1 1 ...\n",
      " $ first_month_weightgain binned: Factor w/ 3 levels \"0\",\"1 to 3\",\"4 to 10\": 1 1 1 1 1 1 2 1 1 1 ...\n",
      " $ total.spend binned           : Factor w/ 5 levels \"(-4.52,319]\",..: 4 3 1 3 4 1 3 1 4 5 ...\n",
      " $ predicted_glm_NoChurn        : num  0.871 0.685 0.482 0.813 0.524 ...\n",
      " $ predicted_glm_Churn          : num  0.129 0.315 0.518 0.187 0.476 ...\n",
      " $ pid2                         : chr  \"24OesM4471\" \"9CoyA5182\" \"17AboS9791\" \"19BarM4357\" ...\n",
      " $ gender                       : chr  \"F\" \"F\" \"F\" \"F\" ...\n",
      " $ visitsuntil_weightlost_factor: chr  \"1\" \"Didnt Lose Weight\" \"1\" \"2 to 3\" ...\n"
     ]
    }
   ],
   "source": [
    "str(model_data_discrete)"
   ]
  },
  {
   "cell_type": "code",
   "execution_count": 385,
   "metadata": {},
   "outputs": [],
   "source": [
    "#Combine the binned data with the original data\n",
    "test <- as.data.frame(apply(select(model_data_discrete,avg_weight_change,avg_visits,stdev_weight_change,\n",
    "                                   stdev_visits,first_month_weightlost,first_month_weightgain,total.spend,\n",
    "                                   ),2,function(x) bin(x,nbins =5, method = \"content\")))\n",
    "\n",
    "names(test) <- paste(names(test),\"binned\")\n",
    "model_data_discrete <- cbind(model_data_discrete, test)"
   ]
  },
  {
   "cell_type": "code",
   "execution_count": 386,
   "metadata": {},
   "outputs": [],
   "source": [
    "#Change some of the levels since they are confusing\n",
    "levels(model_data_discrete$`first_month_weightgain binned`) <- c(\"0\",\"1 to 3\",\"4 to 10\")\n",
    "\n",
    "levels(model_data_discrete$`first_month_weightlost binned`) <- c(\"0\",\"1\",\"2 to 10\")\n",
    "levels(model_data_discrete$`avg_weight_change binned`) <- c(\"0 to 25\",\"-0.6 to -0.1\",\"-1.12 to -.6\",\"-1.85 to -1.12\",\n",
    "                                                            \"-14.4 to -1.85\")\n",
    "levels(model_data_discrete$`avg_visits binned`) <- c(\"0 to 1.18\",\"1.18 to 2.27\",\"2.27 to 3.73\",\"3.73 to 5.65\",\n",
    "                                                            \"5.65 to 31\")"
   ]
  },
  {
   "cell_type": "code",
   "execution_count": 391,
   "metadata": {},
   "outputs": [
    {
     "name": "stdout",
     "output_type": "stream",
     "text": [
      "'data.frame':\t9562 obs. of  31 variables:\n",
      " $ pid                          : Factor w/ 9562 levels \"10Agu9063\",\"10Ala9061\",..: 2539 9236 1027 1309 4303 5176 2753 5283 5308 3337 ...\n",
      " $ avg_weight_change            : num  -1.882 0 -0.1 -0.927 -0.182 ...\n",
      " $ avg_visits                   : num  3.364 0.364 1.091 1.727 0.727 ...\n",
      " $ stdev_weight_change          : num  3.527 0 0.173 3.075 0.603 ...\n",
      " $ stdev_visits                 : num  6.816 0.674 1.921 5.405 2.412 ...\n",
      " $ consec_0_visits_v2           : int  0 1 1 0 1 0 0 0 0 0 ...\n",
      " $ first_month_weightlost       : num  0 0 0 1 0 1 0 0 0 0 ...\n",
      " $ first_month_weightgain       : num  0 0 0 0 0 0 2 0 0 0 ...\n",
      " $ membership                   : Factor w/ 3 levels \"BWM\",\"WPM\",\"WUM\": 3 1 1 3 2 1 1 1 2 2 ...\n",
      " $ processor                    : Factor w/ 2 levels \"Square\",\"Stripe\": 2 2 2 2 2 2 2 2 2 2 ...\n",
      " $ total.spend                  : num  596 392 0 447 792 ...\n",
      " $ birth.year                   : Factor w/ 7430 levels \"1918-01-15\",\"1918-01-24\",..: 2828 1379 1151 3493 4423 7082 2433 2889 103 1699 ...\n",
      " $ churn_v2                     : Factor w/ 2 levels \"No Churn\",\"Churn\": 1 2 2 1 2 1 1 1 1 1 ...\n",
      " $ birthyear_factor             : num  1962 1954 1952 1965 1969 ...\n",
      " $ generation                   : Factor w/ 6 levels \"Baby Boomers\",..: 1 1 1 2 2 4 1 1 5 1 ...\n",
      " $ avg_weight_change binned     : Factor w/ 5 levels \"0 to 25\",\"-0.6 to -0.1\",..: 5 1 2 3 2 5 1 3 3 4 ...\n",
      " $ avg_visits binned            : Factor w/ 5 levels \"0 to 1.18\",\"1.18 to 2.27\",..: 3 1 1 2 1 3 2 2 4 4 ...\n",
      " $ stdev_weight_change binned   : Factor w/ 5 levels \"(-0.0861,1.29]\",..: 4 1 1 4 1 5 1 2 2 4 ...\n",
      " $ stdev_visits binned          : Factor w/ 5 levels \"(-0.0177,1.69]\",..: 5 1 2 4 2 4 2 3 4 3 ...\n",
      " $ first_month_weightlost binned: Factor w/ 3 levels \"0\",\"1\",\"2 to 10\": 1 1 1 2 1 2 1 1 1 1 ...\n",
      " $ first_month_weightgain binned: Factor w/ 3 levels \"0\",\"1 to 3\",\"4 to 10\": 1 1 1 1 1 1 2 1 1 1 ...\n",
      " $ total.spend binned           : Factor w/ 5 levels \"(-4.52,319]\",..: 4 3 1 3 4 1 3 1 4 5 ...\n",
      " $ predicted_glm_NoChurn        : num  0.871 0.685 0.482 0.813 0.524 ...\n",
      " $ predicted_glm_Churn          : num  0.129 0.315 0.518 0.187 0.476 ...\n",
      " $ avg_weight_change binned     : Factor w/ 5 levels \"(-0.1,25.3]\",..: 5 1 2 3 2 5 1 3 3 4 ...\n",
      " $ avg_visits binned            : Factor w/ 5 levels \"(0.06,1.18]\",..: 3 1 1 2 1 3 2 2 4 4 ...\n",
      " $ stdev_weight_change binned   : Factor w/ 5 levels \"(-0.0861,1.28]\",..: 4 1 1 4 1 5 1 2 2 4 ...\n",
      " $ stdev_visits binned          : Factor w/ 5 levels \"(-0.0177,1.68]\",..: 5 1 2 4 2 4 2 3 4 3 ...\n",
      " $ first_month_weightlost binned: Factor w/ 3 levels \"(-0.01,0]\",\"(0,1]\",..: 1 1 1 2 1 2 1 1 1 1 ...\n",
      " $ first_month_weightgain binned: Factor w/ 3 levels \"(-0.01,0]\",\"(0,3]\",..: 1 1 1 1 1 1 2 1 1 1 ...\n",
      " $ total.spend binned           : Factor w/ 5 levels \"(-4.52,319]\",..: 4 3 1 3 4 1 3 1 4 5 ...\n"
     ]
    }
   ],
   "source": [
    "xxx <- model_data_discrete\n",
    "str(xxx)"
   ]
  },
  {
   "cell_type": "code",
   "execution_count": 394,
   "metadata": {},
   "outputs": [
    {
     "name": "stdout",
     "output_type": "stream",
     "text": [
      "'data.frame':\t9562 obs. of  24 variables:\n",
      " $ pid                          : Factor w/ 9562 levels \"10Agu9063\",\"10Ala9061\",..: 2539 9236 1027 1309 4303 5176 2753 5283 5308 3337 ...\n",
      " $ avg_weight_change            : num  -1.882 0 -0.1 -0.927 -0.182 ...\n",
      " $ avg_visits                   : num  3.364 0.364 1.091 1.727 0.727 ...\n",
      " $ stdev_weight_change          : num  3.527 0 0.173 3.075 0.603 ...\n",
      " $ stdev_visits                 : num  6.816 0.674 1.921 5.405 2.412 ...\n",
      " $ consec_0_visits_v2           : int  0 1 1 0 1 0 0 0 0 0 ...\n",
      " $ first_month_weightlost       : num  0 0 0 1 0 1 0 0 0 0 ...\n",
      " $ first_month_weightgain       : num  0 0 0 0 0 0 2 0 0 0 ...\n",
      " $ membership                   : Factor w/ 3 levels \"BWM\",\"WPM\",\"WUM\": 3 1 1 3 2 1 1 1 2 2 ...\n",
      " $ processor                    : Factor w/ 2 levels \"Square\",\"Stripe\": 2 2 2 2 2 2 2 2 2 2 ...\n",
      " $ total.spend                  : num  596 392 0 447 792 ...\n",
      " $ birth.year                   : Factor w/ 7430 levels \"1918-01-15\",\"1918-01-24\",..: 2828 1379 1151 3493 4423 7082 2433 2889 103 1699 ...\n",
      " $ churn_v2                     : Factor w/ 2 levels \"No Churn\",\"Churn\": 1 2 2 1 2 1 1 1 1 1 ...\n",
      " $ birthyear_factor             : num  1962 1954 1952 1965 1969 ...\n",
      " $ generation                   : Factor w/ 6 levels \"Baby Boomers\",..: 1 1 1 2 2 4 1 1 5 1 ...\n",
      " $ avg_weight_change binned     : Factor w/ 5 levels \"0 to 25\",\"-0.6 to -0.1\",..: 5 1 2 3 2 5 1 3 3 4 ...\n",
      " $ avg_visits binned            : Factor w/ 5 levels \"0 to 1.18\",\"1.18 to 2.27\",..: 3 1 1 2 1 3 2 2 4 4 ...\n",
      " $ stdev_weight_change binned   : Factor w/ 5 levels \"(-0.0861,1.29]\",..: 4 1 1 4 1 5 1 2 2 4 ...\n",
      " $ stdev_visits binned          : Factor w/ 5 levels \"(-0.0177,1.69]\",..: 5 1 2 4 2 4 2 3 4 3 ...\n",
      " $ first_month_weightlost binned: Factor w/ 3 levels \"0\",\"1\",\"2 to 10\": 1 1 1 2 1 2 1 1 1 1 ...\n",
      " $ first_month_weightgain binned: Factor w/ 3 levels \"0\",\"1 to 3\",\"4 to 10\": 1 1 1 1 1 1 2 1 1 1 ...\n",
      " $ total.spend binned           : Factor w/ 5 levels \"(-4.52,319]\",..: 4 3 1 3 4 1 3 1 4 5 ...\n",
      " $ predicted_glm_NoChurn        : num  0.871 0.685 0.482 0.813 0.524 ...\n",
      " $ predicted_glm_Churn          : num  0.129 0.315 0.518 0.187 0.476 ...\n"
     ]
    }
   ],
   "source": [
    "str(model_data_discrete)"
   ]
  },
  {
   "cell_type": "code",
   "execution_count": null,
   "metadata": {},
   "outputs": [],
   "source": [
    "## Plotting "
   ]
  },
  {
   "cell_type": "code",
   "execution_count": 210,
   "metadata": {},
   "outputs": [
    {
     "data": {},
     "metadata": {},
     "output_type": "display_data"
    },
    {
     "data": {
      "image/png": "[encoded data removed]",
      "text/plain": [
       "plot without title"
      ]
     },
     "metadata": {},
     "output_type": "display_data"
    }
   ],
   "source": [
    "# Basic plot showing churn vs non-churn in our data\n",
    "g <- ggplot(model_data_discrete,aes(churn_v2))\n",
    "g + geom_bar(aes(y = (..count..)/sum(..count..)))+\n",
    "scale_y_continuous(labels = scales::percent)+\n",
    "ylab(\"Percentage of All Subscribers\")\n",
    "\n"
   ]
  },
  {
   "cell_type": "code",
   "execution_count": 428,
   "metadata": {},
   "outputs": [
    {
     "data": {},
     "metadata": {},
     "output_type": "display_data"
    },
    {
     "data": {
      "image/png": "[encoded data removed]",
      "text/plain": [
       "plot without title"
      ]
     },
     "metadata": {},
     "output_type": "display_data"
    }
   ],
   "source": [
    "#Let's look at average weight change per month as a function of average visits per month: we expect a high correlation\n",
    "g2 <- ggplot(model_data_discrete, aes(x = avg_visits, y = avg_weight_change))+\n",
    "  geom_point(aes(colour = churn_v2))+\n",
    "  geom_smooth(method = 'loess', formula = y ~ x)+\n",
    "  facet_wrap(~generation)+\n",
    "    labs(x = 'Avg Visits per Month (2018)',y = 'Avg Weight Change per Month',title = 'Weight Change as function of Visits - Generation')\n",
    "  \n",
    "\n",
    "g2\n",
    "# ggsave('WtChange_Visits_Generation.png', plot = g2)"
   ]
  },
  {
   "cell_type": "code",
   "execution_count": 404,
   "metadata": {},
   "outputs": [
    {
     "name": "stderr",
     "output_type": "stream",
     "text": [
      "Warning message:\n",
      "\"Removed 7 rows containing non-finite values (stat_boxplot).\""
     ]
    },
    {
     "data": {},
     "metadata": {},
     "output_type": "display_data"
    },
    {
     "name": "stderr",
     "output_type": "stream",
     "text": [
      "Saving 6.67 x 6.67 in image\n",
      "Warning message:\n",
      "\"Removed 7 rows containing non-finite values (stat_boxplot).\""
     ]
    },
    {
     "data": {
      "image/png": "[encoded data removed]",
      "text/plain": [
       "plot without title"
      ]
     },
     "metadata": {},
     "output_type": "display_data"
    }
   ],
   "source": [
    "#Now lets look at membership type avg weight change and churn\n",
    "boxplot_1 <- qplot(x = as.factor(model_data_discrete$churn_v2), y = avg_weight_change, data = model_data_discrete,geom=\"boxplot\", \n",
    "                 fill = membership, main = \"Membership and Weight Change - Churn\",xlab = 'No Churn vs Churn', ylim = c(-10,10))\n",
    "boxplot_1\n",
    "\n",
    "ggsave('Membership and weight change.png',boxplot_1)"
   ]
  },
  {
   "cell_type": "code",
   "execution_count": 407,
   "metadata": {},
   "outputs": [
    {
     "name": "stderr",
     "output_type": "stream",
     "text": [
      "Warning message:\n",
      "\"Removed 7 rows containing non-finite values (stat_boxplot).\""
     ]
    },
    {
     "data": {},
     "metadata": {},
     "output_type": "display_data"
    },
    {
     "data": {
      "image/png": "[encoded data removed]",
      "text/plain": [
       "plot without title"
      ]
     },
     "metadata": {},
     "output_type": "display_data"
    }
   ],
   "source": [
    "#Now lets look at first month sub lost weight vs avg weight change and churn\n",
    "\n",
    "boxplot_2 <- qplot(x = as.factor(churn_v2), y = avg_weight_change, data = model_data_discrete,geom=\"boxplot\", \n",
    "                   fill = `first_month_weightlost binned`, main = \"First Month Lost Weight vs Avg Total Weight Change - Churn\",\n",
    "                  xlab = 'No Churn vs Churn', ylim = c(-10,10))\n",
    "\n",
    "boxplot_2\n"
   ]
  },
  {
   "cell_type": "code",
   "execution_count": 410,
   "metadata": {},
   "outputs": [
    {
     "name": "stderr",
     "output_type": "stream",
     "text": [
      "Warning message:\n",
      "\"Removed 7 rows containing non-finite values (stat_boxplot).\""
     ]
    },
    {
     "data": {},
     "metadata": {},
     "output_type": "display_data"
    },
    {
     "data": {
      "image/png": "[encoded data removed]",
      "text/plain": [
       "plot without title"
      ]
     },
     "metadata": {},
     "output_type": "display_data"
    }
   ],
   "source": [
    "#Now lets look at first month sub gained weight vs avg weight change and churn\n",
    "\n",
    "boxplot_3 <- qplot(x = as.factor(churn_v2), y = avg_weight_change, data = model_data_discrete,geom=\"boxplot\", \n",
    "                   fill = `first_month_weightgain binned`, main = \"First Month Gained Weight and Avg Total Weight Change - Churn\",\n",
    "                  xlab = 'No Churn vs Churn', ylim = c(-10,10))\n",
    "\n",
    "boxplot_3"
   ]
  },
  {
   "cell_type": "code",
   "execution_count": 276,
   "metadata": {},
   "outputs": [
    {
     "data": {},
     "metadata": {},
     "output_type": "display_data"
    },
    {
     "data": {
      "image/png": "[encoded data removed]",
      "text/plain": [
       "plot without title"
      ]
     },
     "metadata": {},
     "output_type": "display_data"
    }
   ],
   "source": [
    "#Now lets look at variability in visits per month vs avg weight change and churn\n",
    "\n",
    "\n",
    "boxplot_4 <- qplot(x = as.factor(churn_v2), y = avg_weight_change, data = model_data_discrete,geom=\"boxplot\", \n",
    "                   fill = `stdev_visits binned`, main = \"Variabiltiy in Visits and Avg Total Weight Change - Churn\",xlab = 'No Churn vs Churn')\n",
    "boxplot_4"
   ]
  },
  {
   "cell_type": "code",
   "execution_count": 277,
   "metadata": {},
   "outputs": [
    {
     "data": {},
     "metadata": {},
     "output_type": "display_data"
    },
    {
     "data": {
      "image/png": "[encoded data removed]",
      "text/plain": [
       "plot without title"
      ]
     },
     "metadata": {},
     "output_type": "display_data"
    }
   ],
   "source": [
    "#Now lets look at generation vs avg weight change and churn\n",
    "\n",
    "boxplot_5 <- qplot(x = as.factor(churn_v2), y = avg_weight_change, data = model_data_discrete,geom=\"boxplot\", \n",
    "                   fill = generation, main = \"Generation and Avg Total Weight Change - Churn\", xlab = 'No Churn vs Churn')\n",
    "boxplot_5"
   ]
  },
  {
   "cell_type": "code",
   "execution_count": 187,
   "metadata": {},
   "outputs": [],
   "source": [
    "#Need to re-level churn variable since it was throwing off the visualizations\n",
    "model_data_discrete$churn_v2 <- factor(model_data_discrete$churn_v2,levels(model_data_discrete$churn_v2)[c(2,1)])"
   ]
  },
  {
   "cell_type": "code",
   "execution_count": 241,
   "metadata": {},
   "outputs": [
    {
     "name": "stderr",
     "output_type": "stream",
     "text": [
      "Warning message:\n",
      "\"Width not defined. Set with `position_dodge(width = ?)`\""
     ]
    },
    {
     "data": {},
     "metadata": {},
     "output_type": "display_data"
    },
    {
     "data": {
      "image/png": "[encoded data removed]",
      "text/plain": [
       "plot without title"
      ]
     },
     "metadata": {},
     "output_type": "display_data"
    }
   ],
   "source": [
    "bar_avg_weight_change <- ggplot(data=model_data_discrete, aes(x=`avg_weight_change binned`, fill = churn_v2)) +\n",
    "  geom_bar() +\n",
    "  geom_label(stat='count', aes(label=..count..), position = 'dodge')+\n",
    "  labs(x = 'Avg Weight Change (lbs) 2018',title = 'Weight Loss v Churn')\n",
    "\n",
    "bar_avg_weight_change"
   ]
  },
  {
   "cell_type": "code",
   "execution_count": 242,
   "metadata": {},
   "outputs": [
    {
     "name": "stderr",
     "output_type": "stream",
     "text": [
      "Warning message:\n",
      "\"Width not defined. Set with `position_dodge(width = ?)`\""
     ]
    },
    {
     "data": {},
     "metadata": {},
     "output_type": "display_data"
    },
    {
     "data": {
      "image/png": "[encoded data removed]",
      "text/plain": [
       "plot without title"
      ]
     },
     "metadata": {},
     "output_type": "display_data"
    }
   ],
   "source": [
    "bar_avg_visits <- ggplot(data=model_data_discrete, aes(x=`avg_visits binned`, fill = churn_v2)) +\n",
    "  geom_bar() +\n",
    "  geom_label(stat='count', aes(label=..count..), position = 'dodge')+\n",
    "  labs(x = 'Avg Visits per Month (2018)',title = 'Avg Visits Per Month v Churn')\n",
    "\n",
    "bar_avg_visits\n",
    "\n",
    "# bar_avg_visits"
   ]
  },
  {
   "cell_type": "code",
   "execution_count": 243,
   "metadata": {},
   "outputs": [
    {
     "name": "stderr",
     "output_type": "stream",
     "text": [
      "Warning message:\n",
      "\"Width not defined. Set with `position_dodge(width = ?)`\""
     ]
    },
    {
     "data": {},
     "metadata": {},
     "output_type": "display_data"
    },
    {
     "data": {
      "image/png": "[encoded data removed]",
      "text/plain": [
       "plot without title"
      ]
     },
     "metadata": {},
     "output_type": "display_data"
    }
   ],
   "source": [
    "bar_std_weight_change <- ggplot(data=model_data_discrete, aes(x=`stdev_weight_change binned`, fill = churn_v2)) +\n",
    "  geom_bar() +\n",
    "  geom_label(stat='count', aes(label=..count..), position = 'dodge')+\n",
    "  labs(x = 'Std Dev of Weight Change (lbs) in 2018',title = 'Variabilty in Weight Loss v Churn')\n",
    "\n",
    "bar_std_weight_change"
   ]
  },
  {
   "cell_type": "code",
   "execution_count": 244,
   "metadata": {},
   "outputs": [
    {
     "name": "stderr",
     "output_type": "stream",
     "text": [
      "Warning message:\n",
      "\"Width not defined. Set with `position_dodge(width = ?)`\""
     ]
    },
    {
     "data": {},
     "metadata": {},
     "output_type": "display_data"
    },
    {
     "data": {
      "image/png": "[encoded data removed]",
      "text/plain": [
       "plot without title"
      ]
     },
     "metadata": {},
     "output_type": "display_data"
    }
   ],
   "source": [
    "bar_first_month_gain <- ggplot(data=model_data_discrete, aes(x=`first_month_weightgain binned`, fill = churn_v2)) +\n",
    "  geom_bar() +\n",
    "  geom_label(stat='count', aes(label=..count..), position = 'dodge')+\n",
    "  labs(title = 'First Month Weight Gain v Churn', x = \"First month of Weight Gain (no weight gain =  0)\")\n",
    "\n",
    "bar_first_month_gain"
   ]
  },
  {
   "cell_type": "code",
   "execution_count": 406,
   "metadata": {},
   "outputs": [
    {
     "name": "stderr",
     "output_type": "stream",
     "text": [
      "Warning message:\n",
      "\"Width not defined. Set with `position_dodge(width = ?)`\""
     ]
    },
    {
     "data": {},
     "metadata": {},
     "output_type": "display_data"
    },
    {
     "data": {
      "image/png": "[encoded data removed]",
      "text/plain": [
       "plot without title"
      ]
     },
     "metadata": {},
     "output_type": "display_data"
    }
   ],
   "source": [
    "bar_first_month_lost <- ggplot(data=model_data_discrete, aes(x=`first_month_weightlost binned`, fill = churn_v2)) +\n",
    "  geom_bar() +\n",
    "  geom_label(stat='count', aes(label=..count..), position = 'dodge')+\n",
    "  labs(title = 'First Month Weight Lost v Churn', x = \"First month (or NA) of Weight Loss\")\n",
    "\n",
    "bar_first_month_lost"
   ]
  },
  {
   "cell_type": "code",
   "execution_count": 245,
   "metadata": {},
   "outputs": [
    {
     "name": "stderr",
     "output_type": "stream",
     "text": [
      "Warning message:\n",
      "\"Width not defined. Set with `position_dodge(width = ?)`\""
     ]
    },
    {
     "data": {},
     "metadata": {},
     "output_type": "display_data"
    },
    {
     "data": {
      "image/png": "[encoded data removed]",
      "text/plain": [
       "plot without title"
      ]
     },
     "metadata": {},
     "output_type": "display_data"
    }
   ],
   "source": [
    "bar_gen <- ggplot(data=model_data_discrete, aes(x=generation, fill = churn_v2)) +\n",
    "  geom_bar() +\n",
    "  geom_label(stat='count', aes(label=..count..), position = 'dodge')+\n",
    "  labs(x = 'Generation',title = 'Generation v Churn')\n",
    "\n",
    "bar_gen"
   ]
  },
  {
   "cell_type": "code",
   "execution_count": 319,
   "metadata": {},
   "outputs": [
    {
     "data": {
      "text/html": [
       "<ol class=list-inline>\n",
       "\t<li>'pid'</li>\n",
       "\t<li>'avg_weight_change'</li>\n",
       "\t<li>'avg_visits'</li>\n",
       "\t<li>'stdev_weight_change'</li>\n",
       "\t<li>'stdev_visits'</li>\n",
       "\t<li>'consec_0_visits_v2'</li>\n",
       "\t<li>'first_month_weightlost'</li>\n",
       "\t<li>'first_month_weightgain'</li>\n",
       "\t<li>'membership'</li>\n",
       "\t<li>'processor'</li>\n",
       "\t<li>'total.spend'</li>\n",
       "\t<li>'birth.year'</li>\n",
       "\t<li>'churn_v2'</li>\n",
       "\t<li>'birthyear_factor'</li>\n",
       "\t<li>'generation'</li>\n",
       "\t<li>'avg_weight_change binned'</li>\n",
       "\t<li>'avg_visits binned'</li>\n",
       "\t<li>'stdev_weight_change binned'</li>\n",
       "\t<li>'stdev_visits binned'</li>\n",
       "\t<li>'first_month_weightlost binned'</li>\n",
       "\t<li>'first_month_weightgain binned'</li>\n",
       "\t<li>'total.spend binned'</li>\n",
       "\t<li>'predicted_glm_NoChurn'</li>\n",
       "\t<li>'predicted_glm_Churn'</li>\n",
       "</ol>\n"
      ],
      "text/latex": [
       "\\begin{enumerate*}\n",
       "\\item 'pid'\n",
       "\\item 'avg\\_weight\\_change'\n",
       "\\item 'avg\\_visits'\n",
       "\\item 'stdev\\_weight\\_change'\n",
       "\\item 'stdev\\_visits'\n",
       "\\item 'consec\\_0\\_visits\\_v2'\n",
       "\\item 'first\\_month\\_weightlost'\n",
       "\\item 'first\\_month\\_weightgain'\n",
       "\\item 'membership'\n",
       "\\item 'processor'\n",
       "\\item 'total.spend'\n",
       "\\item 'birth.year'\n",
       "\\item 'churn\\_v2'\n",
       "\\item 'birthyear\\_factor'\n",
       "\\item 'generation'\n",
       "\\item 'avg\\_weight\\_change binned'\n",
       "\\item 'avg\\_visits binned'\n",
       "\\item 'stdev\\_weight\\_change binned'\n",
       "\\item 'stdev\\_visits binned'\n",
       "\\item 'first\\_month\\_weightlost binned'\n",
       "\\item 'first\\_month\\_weightgain binned'\n",
       "\\item 'total.spend binned'\n",
       "\\item 'predicted\\_glm\\_NoChurn'\n",
       "\\item 'predicted\\_glm\\_Churn'\n",
       "\\end{enumerate*}\n"
      ],
      "text/markdown": [
       "1. 'pid'\n",
       "2. 'avg_weight_change'\n",
       "3. 'avg_visits'\n",
       "4. 'stdev_weight_change'\n",
       "5. 'stdev_visits'\n",
       "6. 'consec_0_visits_v2'\n",
       "7. 'first_month_weightlost'\n",
       "8. 'first_month_weightgain'\n",
       "9. 'membership'\n",
       "10. 'processor'\n",
       "11. 'total.spend'\n",
       "12. 'birth.year'\n",
       "13. 'churn_v2'\n",
       "14. 'birthyear_factor'\n",
       "15. 'generation'\n",
       "16. 'avg_weight_change binned'\n",
       "17. 'avg_visits binned'\n",
       "18. 'stdev_weight_change binned'\n",
       "19. 'stdev_visits binned'\n",
       "20. 'first_month_weightlost binned'\n",
       "21. 'first_month_weightgain binned'\n",
       "22. 'total.spend binned'\n",
       "23. 'predicted_glm_NoChurn'\n",
       "24. 'predicted_glm_Churn'\n",
       "\n",
       "\n"
      ],
      "text/plain": [
       " [1] \"pid\"                           \"avg_weight_change\"            \n",
       " [3] \"avg_visits\"                    \"stdev_weight_change\"          \n",
       " [5] \"stdev_visits\"                  \"consec_0_visits_v2\"           \n",
       " [7] \"first_month_weightlost\"        \"first_month_weightgain\"       \n",
       " [9] \"membership\"                    \"processor\"                    \n",
       "[11] \"total.spend\"                   \"birth.year\"                   \n",
       "[13] \"churn_v2\"                      \"birthyear_factor\"             \n",
       "[15] \"generation\"                    \"avg_weight_change binned\"     \n",
       "[17] \"avg_visits binned\"             \"stdev_weight_change binned\"   \n",
       "[19] \"stdev_visits binned\"           \"first_month_weightlost binned\"\n",
       "[21] \"first_month_weightgain binned\" \"total.spend binned\"           \n",
       "[23] \"predicted_glm_NoChurn\"         \"predicted_glm_Churn\"          "
      ]
     },
     "metadata": {},
     "output_type": "display_data"
    }
   ],
   "source": [
    "colnames(model_data_discrete)"
   ]
  },
  {
   "cell_type": "code",
   "execution_count": 379,
   "metadata": {},
   "outputs": [],
   "source": [
    "# p <- plot_ly(\n",
    "#   model_data_discrete, x = ~avg_visits, y = ~avg_weight_change,\n",
    "#   color = ~predicted_glm_Churn, size = ~predicted_glm_Churn\n",
    "# )\n",
    "# p"
   ]
  },
  {
   "cell_type": "code",
   "execution_count": 327,
   "metadata": {},
   "outputs": [
    {
     "data": {
      "text/html": [
       "<ol class=list-inline>\n",
       "\t<li>'pid'</li>\n",
       "\t<li>'avg_weight_change'</li>\n",
       "\t<li>'avg_visits'</li>\n",
       "\t<li>'stdev_weight_change'</li>\n",
       "\t<li>'stdev_visits'</li>\n",
       "\t<li>'consec_0_visits_v2'</li>\n",
       "\t<li>'first_month_weightlost'</li>\n",
       "\t<li>'first_month_weightgain'</li>\n",
       "\t<li>'membership'</li>\n",
       "\t<li>'processor'</li>\n",
       "\t<li>'total.spend'</li>\n",
       "\t<li>'birth.year'</li>\n",
       "\t<li>'churn_v2'</li>\n",
       "\t<li>'birthyear_factor'</li>\n",
       "\t<li>'generation'</li>\n",
       "\t<li>'avg_weight_change binned'</li>\n",
       "\t<li>'avg_visits binned'</li>\n",
       "\t<li>'stdev_weight_change binned'</li>\n",
       "\t<li>'stdev_visits binned'</li>\n",
       "\t<li>'first_month_weightlost binned'</li>\n",
       "\t<li>'first_month_weightgain binned'</li>\n",
       "\t<li>'total.spend binned'</li>\n",
       "\t<li>'predicted_glm_NoChurn'</li>\n",
       "\t<li>'predicted_glm_Churn'</li>\n",
       "</ol>\n"
      ],
      "text/latex": [
       "\\begin{enumerate*}\n",
       "\\item 'pid'\n",
       "\\item 'avg\\_weight\\_change'\n",
       "\\item 'avg\\_visits'\n",
       "\\item 'stdev\\_weight\\_change'\n",
       "\\item 'stdev\\_visits'\n",
       "\\item 'consec\\_0\\_visits\\_v2'\n",
       "\\item 'first\\_month\\_weightlost'\n",
       "\\item 'first\\_month\\_weightgain'\n",
       "\\item 'membership'\n",
       "\\item 'processor'\n",
       "\\item 'total.spend'\n",
       "\\item 'birth.year'\n",
       "\\item 'churn\\_v2'\n",
       "\\item 'birthyear\\_factor'\n",
       "\\item 'generation'\n",
       "\\item 'avg\\_weight\\_change binned'\n",
       "\\item 'avg\\_visits binned'\n",
       "\\item 'stdev\\_weight\\_change binned'\n",
       "\\item 'stdev\\_visits binned'\n",
       "\\item 'first\\_month\\_weightlost binned'\n",
       "\\item 'first\\_month\\_weightgain binned'\n",
       "\\item 'total.spend binned'\n",
       "\\item 'predicted\\_glm\\_NoChurn'\n",
       "\\item 'predicted\\_glm\\_Churn'\n",
       "\\end{enumerate*}\n"
      ],
      "text/markdown": [
       "1. 'pid'\n",
       "2. 'avg_weight_change'\n",
       "3. 'avg_visits'\n",
       "4. 'stdev_weight_change'\n",
       "5. 'stdev_visits'\n",
       "6. 'consec_0_visits_v2'\n",
       "7. 'first_month_weightlost'\n",
       "8. 'first_month_weightgain'\n",
       "9. 'membership'\n",
       "10. 'processor'\n",
       "11. 'total.spend'\n",
       "12. 'birth.year'\n",
       "13. 'churn_v2'\n",
       "14. 'birthyear_factor'\n",
       "15. 'generation'\n",
       "16. 'avg_weight_change binned'\n",
       "17. 'avg_visits binned'\n",
       "18. 'stdev_weight_change binned'\n",
       "19. 'stdev_visits binned'\n",
       "20. 'first_month_weightlost binned'\n",
       "21. 'first_month_weightgain binned'\n",
       "22. 'total.spend binned'\n",
       "23. 'predicted_glm_NoChurn'\n",
       "24. 'predicted_glm_Churn'\n",
       "\n",
       "\n"
      ],
      "text/plain": [
       " [1] \"pid\"                           \"avg_weight_change\"            \n",
       " [3] \"avg_visits\"                    \"stdev_weight_change\"          \n",
       " [5] \"stdev_visits\"                  \"consec_0_visits_v2\"           \n",
       " [7] \"first_month_weightlost\"        \"first_month_weightgain\"       \n",
       " [9] \"membership\"                    \"processor\"                    \n",
       "[11] \"total.spend\"                   \"birth.year\"                   \n",
       "[13] \"churn_v2\"                      \"birthyear_factor\"             \n",
       "[15] \"generation\"                    \"avg_weight_change binned\"     \n",
       "[17] \"avg_visits binned\"             \"stdev_weight_change binned\"   \n",
       "[19] \"stdev_visits binned\"           \"first_month_weightlost binned\"\n",
       "[21] \"first_month_weightgain binned\" \"total.spend binned\"           \n",
       "[23] \"predicted_glm_NoChurn\"         \"predicted_glm_Churn\"          "
      ]
     },
     "metadata": {},
     "output_type": "display_data"
    }
   ],
   "source": [
    "colnames(model_data_discrete)"
   ]
  },
  {
   "cell_type": "markdown",
   "metadata": {},
   "source": [
    "##Lets explore plotly in R "
   ]
  },
  {
   "cell_type": "code",
   "execution_count": 380,
   "metadata": {},
   "outputs": [],
   "source": [
    "\n",
    "# p_3d <- plot_ly(model_data_discrete, x = ~avg_visits, y = ~avg_weight_change, z = ~predicted_glm_Churn, color = ~churn_v2, colors = c('#BF382A', '#0C4B8E')) %>%\n",
    "#   add_markers() %>%\n",
    "#   layout(scene = list(xaxis = list(title = 'Avg Monthly Visits'),\n",
    "#                      yaxis = list(title = 'Avg Monhtly Weight Change'),\n",
    "#                      zaxis = list(title = 'Predicted Churn Probability')))\n",
    "# p_3d\n"
   ]
  },
  {
   "cell_type": "markdown",
   "metadata": {},
   "source": [
    "##Highly correlated predictors: make sure we dont include these in certain models to avoid multi-collinearity"
   ]
  },
  {
   "cell_type": "code",
   "execution_count": 115,
   "metadata": {},
   "outputs": [
    {
     "data": {},
     "metadata": {},
     "output_type": "display_data"
    },
    {
     "name": "stderr",
     "output_type": "stream",
     "text": [
      "Warning message in eval(expr, envir, enclos):\n",
      "\"restarting interrupted promise evaluation\"Warning message in eval(expr, envir, enclos):\n",
      "\"internal error -3 in R_decompress1\""
     ]
    },
    {
     "ename": "ERROR",
     "evalue": "Error in eval(expr, envir, enclos): lazy-load database 'C:/Users/markl/Anaconda3/Lib/R/library/RColorBrewer/R/RColorBrewer.rdb' is corrupt\n",
     "output_type": "error",
     "traceback": [
      "Error in eval(expr, envir, enclos): lazy-load database 'C:/Users/markl/Anaconda3/Lib/R/library/RColorBrewer/R/RColorBrewer.rdb' is corrupt\nTraceback:\n"
     ]
    },
    {
     "data": {
      "image/png": "[encoded data removed]",
      "text/plain": [
       "plot without title"
      ]
     },
     "metadata": {},
     "output_type": "display_data"
    }
   ],
   "source": [
    "ggpairs(model_data_discrete[,2:8], columnLabels = c(\"Avg Wt Chg\",\"Avg Visits\",\"Std Dev Wt Ch \",\"Std Dev Visits\",\"Consec 0 Visits\",\n",
    "                                                   \"1st Mth Wt Loss\",\"1st Mth Wt Gain\"))\n",
    "\n",
    "\n",
    "my_colors <- brewer.pal(nlevels(as.factor(model_data_discrete$churn_v2)), \"Set2\")"
   ]
  },
  {
   "cell_type": "code",
   "execution_count": null,
   "metadata": {},
   "outputs": [],
   "source": [
    "# Split the data into training and test sets; setting our seed to 123 for reproducible results"
   ]
  },
  {
   "cell_type": "code",
   "execution_count": 460,
   "metadata": {},
   "outputs": [],
   "source": [
    "set.seed(123)\n",
    "train_index <- caret::createDataPartition(model_data_discrete$churn_v2,p = 0.7, list = FALSE)\n",
    "train_set <- model_data_discrete[train_index,]\n",
    "test_set <- model_data_discrete[-train_index,]"
   ]
  },
  {
   "cell_type": "code",
   "execution_count": null,
   "metadata": {},
   "outputs": [],
   "source": [
    "#Using Caret train function, we can pre-process using centering and scaling"
   ]
  },
  {
   "cell_type": "code",
   "execution_count": 430,
   "metadata": {},
   "outputs": [
    {
     "data": {
      "text/html": [
       "<ol class=list-inline>\n",
       "\t<li>'pid'</li>\n",
       "\t<li>'avg_weight_change'</li>\n",
       "\t<li>'avg_visits'</li>\n",
       "\t<li>'stdev_weight_change'</li>\n",
       "\t<li>'stdev_visits'</li>\n",
       "\t<li>'consec_0_visits_v2'</li>\n",
       "\t<li>'first_month_weightlost'</li>\n",
       "\t<li>'first_month_weightgain'</li>\n",
       "\t<li>'membership'</li>\n",
       "\t<li>'processor'</li>\n",
       "\t<li>'total.spend'</li>\n",
       "\t<li>'birth.year'</li>\n",
       "\t<li>'churn_v2'</li>\n",
       "\t<li>'birthyear_factor'</li>\n",
       "\t<li>'generation'</li>\n",
       "\t<li>'avg_weight_change binned'</li>\n",
       "\t<li>'avg_visits binned'</li>\n",
       "\t<li>'stdev_weight_change binned'</li>\n",
       "\t<li>'stdev_visits binned'</li>\n",
       "\t<li>'first_month_weightlost binned'</li>\n",
       "\t<li>'first_month_weightgain binned'</li>\n",
       "\t<li>'total.spend binned'</li>\n",
       "\t<li>'predicted_glm_NoChurn'</li>\n",
       "\t<li>'predicted_glm_Churn'</li>\n",
       "\t<li>'pid2'</li>\n",
       "\t<li>'gender'</li>\n",
       "\t<li>'visitsuntil_weightlost_factor'</li>\n",
       "</ol>\n"
      ],
      "text/latex": [
       "\\begin{enumerate*}\n",
       "\\item 'pid'\n",
       "\\item 'avg\\_weight\\_change'\n",
       "\\item 'avg\\_visits'\n",
       "\\item 'stdev\\_weight\\_change'\n",
       "\\item 'stdev\\_visits'\n",
       "\\item 'consec\\_0\\_visits\\_v2'\n",
       "\\item 'first\\_month\\_weightlost'\n",
       "\\item 'first\\_month\\_weightgain'\n",
       "\\item 'membership'\n",
       "\\item 'processor'\n",
       "\\item 'total.spend'\n",
       "\\item 'birth.year'\n",
       "\\item 'churn\\_v2'\n",
       "\\item 'birthyear\\_factor'\n",
       "\\item 'generation'\n",
       "\\item 'avg\\_weight\\_change binned'\n",
       "\\item 'avg\\_visits binned'\n",
       "\\item 'stdev\\_weight\\_change binned'\n",
       "\\item 'stdev\\_visits binned'\n",
       "\\item 'first\\_month\\_weightlost binned'\n",
       "\\item 'first\\_month\\_weightgain binned'\n",
       "\\item 'total.spend binned'\n",
       "\\item 'predicted\\_glm\\_NoChurn'\n",
       "\\item 'predicted\\_glm\\_Churn'\n",
       "\\item 'pid2'\n",
       "\\item 'gender'\n",
       "\\item 'visitsuntil\\_weightlost\\_factor'\n",
       "\\end{enumerate*}\n"
      ],
      "text/markdown": [
       "1. 'pid'\n",
       "2. 'avg_weight_change'\n",
       "3. 'avg_visits'\n",
       "4. 'stdev_weight_change'\n",
       "5. 'stdev_visits'\n",
       "6. 'consec_0_visits_v2'\n",
       "7. 'first_month_weightlost'\n",
       "8. 'first_month_weightgain'\n",
       "9. 'membership'\n",
       "10. 'processor'\n",
       "11. 'total.spend'\n",
       "12. 'birth.year'\n",
       "13. 'churn_v2'\n",
       "14. 'birthyear_factor'\n",
       "15. 'generation'\n",
       "16. 'avg_weight_change binned'\n",
       "17. 'avg_visits binned'\n",
       "18. 'stdev_weight_change binned'\n",
       "19. 'stdev_visits binned'\n",
       "20. 'first_month_weightlost binned'\n",
       "21. 'first_month_weightgain binned'\n",
       "22. 'total.spend binned'\n",
       "23. 'predicted_glm_NoChurn'\n",
       "24. 'predicted_glm_Churn'\n",
       "25. 'pid2'\n",
       "26. 'gender'\n",
       "27. 'visitsuntil_weightlost_factor'\n",
       "\n",
       "\n"
      ],
      "text/plain": [
       " [1] \"pid\"                           \"avg_weight_change\"            \n",
       " [3] \"avg_visits\"                    \"stdev_weight_change\"          \n",
       " [5] \"stdev_visits\"                  \"consec_0_visits_v2\"           \n",
       " [7] \"first_month_weightlost\"        \"first_month_weightgain\"       \n",
       " [9] \"membership\"                    \"processor\"                    \n",
       "[11] \"total.spend\"                   \"birth.year\"                   \n",
       "[13] \"churn_v2\"                      \"birthyear_factor\"             \n",
       "[15] \"generation\"                    \"avg_weight_change binned\"     \n",
       "[17] \"avg_visits binned\"             \"stdev_weight_change binned\"   \n",
       "[19] \"stdev_visits binned\"           \"first_month_weightlost binned\"\n",
       "[21] \"first_month_weightgain binned\" \"total.spend binned\"           \n",
       "[23] \"predicted_glm_NoChurn\"         \"predicted_glm_Churn\"          \n",
       "[25] \"pid2\"                          \"gender\"                       \n",
       "[27] \"visitsuntil_weightlost_factor\""
      ]
     },
     "metadata": {},
     "output_type": "display_data"
    }
   ],
   "source": [
    "colnames(train_set)"
   ]
  },
  {
   "cell_type": "code",
   "execution_count": 461,
   "metadata": {},
   "outputs": [],
   "source": [
    "model_glm <- caret::train(churn_v2 ~ `avg_weight_change binned`+ `avg_visits binned` + gender + visitsuntil_weightlost_factor +\n",
    "                              `first_month_weightgain binned` + membership + `total.spend binned` + generation,preProc = c(\"center\",\"scale\"),\n",
    "             data = train_set, method = \"glm\", family = \"binomial\")\n",
    " \n",
    " "
   ]
  },
  {
   "cell_type": "code",
   "execution_count": 462,
   "metadata": {},
   "outputs": [
    {
     "data": {
      "text/plain": [
       "Generalized Linear Model \n",
       "\n",
       "6686 samples\n",
       "   8 predictor\n",
       "   2 classes: 'No Churn', 'Churn' \n",
       "\n",
       "Pre-processing: centered (26), scaled (26) \n",
       "Resampling: Bootstrapped (25 reps) \n",
       "Summary of sample sizes: 6686, 6686, 6686, 6686, 6686, 6686, ... \n",
       "Resampling results:\n",
       "\n",
       "  Accuracy   Kappa    \n",
       "  0.7927289  0.2701546\n"
      ]
     },
     "metadata": {},
     "output_type": "display_data"
    }
   ],
   "source": [
    "model_glm"
   ]
  },
  {
   "cell_type": "code",
   "execution_count": 463,
   "metadata": {},
   "outputs": [
    {
     "data": {
      "text/plain": [
       "\n",
       "Call:\n",
       "NULL\n",
       "\n",
       "Deviance Residuals: \n",
       "    Min       1Q   Median       3Q      Max  \n",
       "-1.9588  -0.7109  -0.3985  -0.1643   3.0003  \n",
       "\n",
       "Coefficients:\n",
       "                                                 Estimate Std. Error z value\n",
       "(Intercept)                                      -1.67441    0.04423 -37.858\n",
       "`\\\\`avg_weight_change binned\\\\`-0.6 to -0.1`      0.08635    0.04819   1.792\n",
       "`\\\\`avg_weight_change binned\\\\`-1.12 to -.6`      0.06738    0.05194   1.297\n",
       "`\\\\`avg_weight_change binned\\\\`-1.85 to -1.12`    0.01602    0.05565   0.288\n",
       "`\\\\`avg_weight_change binned\\\\`-14.4 to -1.85`   -0.02644    0.06356  -0.416\n",
       "`\\\\`avg_visits binned\\\\`1.18 to 2.27`            -0.27676    0.03863  -7.164\n",
       "`\\\\`avg_visits binned\\\\`2.27 to 3.73`            -0.54787    0.04612 -11.879\n",
       "`\\\\`avg_visits binned\\\\`3.73 to 5.65`            -0.83180    0.05417 -15.355\n",
       "`\\\\`avg_visits binned\\\\`5.65 to 31`              -1.36805    0.07972 -17.161\n",
       "genderMale                                        0.01748    0.03289   0.532\n",
       "`visitsuntil_weightlost_factor2 to 3`            -0.15838    0.03588  -4.414\n",
       "`visitsuntil_weightlost_factor4 to 5`            -0.11267    0.03850  -2.927\n",
       "`visitsuntil_weightlost_factor5+`                -0.01581    0.03352  -0.472\n",
       "`visitsuntil_weightlost_factorDidnt Lose Weight` -0.00227    0.03813  -0.060\n",
       "`\\\\`first_month_weightgain binned\\\\`1 to 3`      -0.13312    0.03995  -3.332\n",
       "`\\\\`first_month_weightgain binned\\\\`4 to 10`     -0.31443    0.04869  -6.458\n",
       "membershipWPM                                     0.02890    0.05133   0.563\n",
       "membershipWUM                                    -0.15685    0.05927  -2.646\n",
       "`\\\\`total.spend binned\\\\`(1.19e+03,4.52e+03]`     0.32306    0.05634   5.734\n",
       "`\\\\`total.spend binned\\\\`(319,594]`              -0.21810    0.04155  -5.249\n",
       "`\\\\`total.spend binned\\\\`(594,894]`              -0.03492    0.04807  -0.726\n",
       "`\\\\`total.spend binned\\\\`(894,1.19e+03]`          0.31905    0.04470   7.138\n",
       "`generationGen X`                                 0.09675    0.03628   2.667\n",
       "generationiGen                                    0.08709    0.02950   2.953\n",
       "generationMillennials                             0.17554    0.03127   5.614\n",
       "generationSilent                                 -0.01170    0.03553  -0.329\n",
       "generationXennials                                0.02264    0.03325   0.681\n",
       "                                                 Pr(>|z|)    \n",
       "(Intercept)                                       < 2e-16 ***\n",
       "`\\\\`avg_weight_change binned\\\\`-0.6 to -0.1`     0.073134 .  \n",
       "`\\\\`avg_weight_change binned\\\\`-1.12 to -.6`     0.194560    \n",
       "`\\\\`avg_weight_change binned\\\\`-1.85 to -1.12`   0.773437    \n",
       "`\\\\`avg_weight_change binned\\\\`-14.4 to -1.85`   0.677397    \n",
       "`\\\\`avg_visits binned\\\\`1.18 to 2.27`            7.81e-13 ***\n",
       "`\\\\`avg_visits binned\\\\`2.27 to 3.73`             < 2e-16 ***\n",
       "`\\\\`avg_visits binned\\\\`3.73 to 5.65`             < 2e-16 ***\n",
       "`\\\\`avg_visits binned\\\\`5.65 to 31`               < 2e-16 ***\n",
       "genderMale                                       0.595014    \n",
       "`visitsuntil_weightlost_factor2 to 3`            1.01e-05 ***\n",
       "`visitsuntil_weightlost_factor4 to 5`            0.003426 ** \n",
       "`visitsuntil_weightlost_factor5+`                0.637101    \n",
       "`visitsuntil_weightlost_factorDidnt Lose Weight` 0.952523    \n",
       "`\\\\`first_month_weightgain binned\\\\`1 to 3`      0.000863 ***\n",
       "`\\\\`first_month_weightgain binned\\\\`4 to 10`     1.06e-10 ***\n",
       "membershipWPM                                    0.573401    \n",
       "membershipWUM                                    0.008134 ** \n",
       "`\\\\`total.spend binned\\\\`(1.19e+03,4.52e+03]`    9.78e-09 ***\n",
       "`\\\\`total.spend binned\\\\`(319,594]`              1.53e-07 ***\n",
       "`\\\\`total.spend binned\\\\`(594,894]`              0.467576    \n",
       "`\\\\`total.spend binned\\\\`(894,1.19e+03]`         9.50e-13 ***\n",
       "`generationGen X`                                0.007651 ** \n",
       "generationiGen                                   0.003151 ** \n",
       "generationMillennials                            1.97e-08 ***\n",
       "generationSilent                                 0.741863    \n",
       "generationXennials                               0.496006    \n",
       "---\n",
       "Signif. codes:  0 '***' 0.001 '**' 0.01 '*' 0.05 '.' 0.1 ' ' 1\n",
       "\n",
       "(Dispersion parameter for binomial family taken to be 1)\n",
       "\n",
       "    Null deviance: 7113.7  on 6685  degrees of freedom\n",
       "Residual deviance: 5768.8  on 6659  degrees of freedom\n",
       "AIC: 5822.8\n",
       "\n",
       "Number of Fisher Scoring iterations: 6\n"
      ]
     },
     "metadata": {},
     "output_type": "display_data"
    }
   ],
   "source": [
    "#Calling summary on our model to view the coefficients: the coefficients are in relation to the reference level:\n",
    "#e.g. avg weight change binned reference level is \n",
    "summary(model_glm)"
   ]
  },
  {
   "cell_type": "code",
   "execution_count": 464,
   "metadata": {},
   "outputs": [
    {
     "data": {
      "text/html": [
       "<dl class=dl-horizontal>\n",
       "\t<dt>(Intercept)</dt>\n",
       "\t\t<dd>0.187419507472878</dd>\n",
       "\t<dt>`\\`avg_weight_change binned\\`-0.6 to -0.1`</dt>\n",
       "\t\t<dd>1.09018994631605</dd>\n",
       "\t<dt>`\\`avg_weight_change binned\\`-1.12 to -.6`</dt>\n",
       "\t\t<dd>1.06970132276319</dd>\n",
       "\t<dt>`\\`avg_weight_change binned\\`-1.85 to -1.12`</dt>\n",
       "\t\t<dd>1.01614962733761</dd>\n",
       "\t<dt>`\\`avg_weight_change binned\\`-14.4 to -1.85`</dt>\n",
       "\t\t<dd>0.973904028672536</dd>\n",
       "\t<dt>`\\`avg_visits binned\\`1.18 to 2.27`</dt>\n",
       "\t\t<dd>0.758233666918215</dd>\n",
       "\t<dt>`\\`avg_visits binned\\`2.27 to 3.73`</dt>\n",
       "\t\t<dd>0.578178725862532</dd>\n",
       "\t<dt>`\\`avg_visits binned\\`3.73 to 5.65`</dt>\n",
       "\t\t<dd>0.435266673054713</dd>\n",
       "\t<dt>`\\`avg_visits binned\\`5.65 to 31`</dt>\n",
       "\t\t<dd>0.25460377187374</dd>\n",
       "\t<dt>genderMale</dt>\n",
       "\t\t<dd>1.01763683046844</dd>\n",
       "\t<dt>`visitsuntil_weightlost_factor2 to 3`</dt>\n",
       "\t\t<dd>0.853520876308615</dd>\n",
       "\t<dt>`visitsuntil_weightlost_factor4 to 5`</dt>\n",
       "\t\t<dd>0.893447392338229</dd>\n",
       "\t<dt>`visitsuntil_weightlost_factor5+`</dt>\n",
       "\t\t<dd>0.984313414719902</dd>\n",
       "\t<dt>`visitsuntil_weightlost_factorDidnt Lose Weight`</dt>\n",
       "\t\t<dd>0.997732108402759</dd>\n",
       "\t<dt>`\\`first_month_weightgain binned\\`1 to 3`</dt>\n",
       "\t\t<dd>0.875359674163057</dd>\n",
       "\t<dt>`\\`first_month_weightgain binned\\`4 to 10`</dt>\n",
       "\t\t<dd>0.730204641336815</dd>\n",
       "\t<dt>membershipWPM</dt>\n",
       "\t\t<dd>1.02932389044586</dd>\n",
       "\t<dt>membershipWUM</dt>\n",
       "\t\t<dd>0.854828119632264</dd>\n",
       "\t<dt>`\\`total.spend binned\\`(1.19e+03,4.52e+03]`</dt>\n",
       "\t\t<dd>1.38134969390992</dd>\n",
       "\t<dt>`\\`total.spend binned\\`(319,594]`</dt>\n",
       "\t\t<dd>0.804048133041916</dd>\n",
       "\t<dt>`\\`total.spend binned\\`(594,894]`</dt>\n",
       "\t\t<dd>0.965679612889217</dd>\n",
       "\t<dt>`\\`total.spend binned\\`(894,1.19e+03]`</dt>\n",
       "\t\t<dd>1.37581876095858</dd>\n",
       "\t<dt>`generationGen X`</dt>\n",
       "\t\t<dd>1.10158930815332</dd>\n",
       "\t<dt>generationiGen</dt>\n",
       "\t\t<dd>1.09099315502219</dd>\n",
       "\t<dt>generationMillennials</dt>\n",
       "\t\t<dd>1.19188562365364</dd>\n",
       "\t<dt>generationSilent</dt>\n",
       "\t\t<dd>0.988364915371729</dd>\n",
       "\t<dt>generationXennials</dt>\n",
       "\t\t<dd>1.02289529319978</dd>\n",
       "</dl>\n"
      ],
      "text/latex": [
       "\\begin{description*}\n",
       "\\item[(Intercept)] 0.187419507472878\n",
       "\\item[`\\textbackslash{}textbackslash\\{\\}`avg\\textbackslash{}\\_weight\\textbackslash{}\\_change binned\\textbackslash{}textbackslash\\{\\}`-0.6 to -0.1`] 1.09018994631605\n",
       "\\item[`\\textbackslash{}textbackslash\\{\\}`avg\\textbackslash{}\\_weight\\textbackslash{}\\_change binned\\textbackslash{}textbackslash\\{\\}`-1.12 to -.6`] 1.06970132276319\n",
       "\\item[`\\textbackslash{}textbackslash\\{\\}`avg\\textbackslash{}\\_weight\\textbackslash{}\\_change binned\\textbackslash{}textbackslash\\{\\}`-1.85 to -1.12`] 1.01614962733761\n",
       "\\item[`\\textbackslash{}textbackslash\\{\\}`avg\\textbackslash{}\\_weight\\textbackslash{}\\_change binned\\textbackslash{}textbackslash\\{\\}`-14.4 to -1.85`] 0.973904028672536\n",
       "\\item[`\\textbackslash{}textbackslash\\{\\}`avg\\textbackslash{}\\_visits binned\\textbackslash{}textbackslash\\{\\}`1.18 to 2.27`] 0.758233666918215\n",
       "\\item[`\\textbackslash{}textbackslash\\{\\}`avg\\textbackslash{}\\_visits binned\\textbackslash{}textbackslash\\{\\}`2.27 to 3.73`] 0.578178725862532\n",
       "\\item[`\\textbackslash{}textbackslash\\{\\}`avg\\textbackslash{}\\_visits binned\\textbackslash{}textbackslash\\{\\}`3.73 to 5.65`] 0.435266673054713\n",
       "\\item[`\\textbackslash{}textbackslash\\{\\}`avg\\textbackslash{}\\_visits binned\\textbackslash{}textbackslash\\{\\}`5.65 to 31`] 0.25460377187374\n",
       "\\item[genderMale] 1.01763683046844\n",
       "\\item[`visitsuntil\\textbackslash{}\\_weightlost\\textbackslash{}\\_factor2 to 3`] 0.853520876308615\n",
       "\\item[`visitsuntil\\textbackslash{}\\_weightlost\\textbackslash{}\\_factor4 to 5`] 0.893447392338229\n",
       "\\item[`visitsuntil\\textbackslash{}\\_weightlost\\textbackslash{}\\_factor5+`] 0.984313414719902\n",
       "\\item[`visitsuntil\\textbackslash{}\\_weightlost\\textbackslash{}\\_factorDidnt Lose Weight`] 0.997732108402759\n",
       "\\item[`\\textbackslash{}textbackslash\\{\\}`first\\textbackslash{}\\_month\\textbackslash{}\\_weightgain binned\\textbackslash{}textbackslash\\{\\}`1 to 3`] 0.875359674163057\n",
       "\\item[`\\textbackslash{}textbackslash\\{\\}`first\\textbackslash{}\\_month\\textbackslash{}\\_weightgain binned\\textbackslash{}textbackslash\\{\\}`4 to 10`] 0.730204641336815\n",
       "\\item[membershipWPM] 1.02932389044586\n",
       "\\item[membershipWUM] 0.854828119632264\n",
       "\\item[`\\textbackslash{}textbackslash\\{\\}`total.spend binned\\textbackslash{}textbackslash\\{\\}`(1.19e+03,4.52e+03\\{{]}\\}`] 1.38134969390992\n",
       "\\item[`\\textbackslash{}textbackslash\\{\\}`total.spend binned\\textbackslash{}textbackslash\\{\\}`(319,594\\{{]}\\}`] 0.804048133041916\n",
       "\\item[`\\textbackslash{}textbackslash\\{\\}`total.spend binned\\textbackslash{}textbackslash\\{\\}`(594,894\\{{]}\\}`] 0.965679612889217\n",
       "\\item[`\\textbackslash{}textbackslash\\{\\}`total.spend binned\\textbackslash{}textbackslash\\{\\}`(894,1.19e+03\\{{]}\\}`] 1.37581876095858\n",
       "\\item[`generationGen X`] 1.10158930815332\n",
       "\\item[generationiGen] 1.09099315502219\n",
       "\\item[generationMillennials] 1.19188562365364\n",
       "\\item[generationSilent] 0.988364915371729\n",
       "\\item[generationXennials] 1.02289529319978\n",
       "\\end{description*}\n"
      ],
      "text/markdown": [
       "(Intercept)\n",
       ":   0.187419507472878`\\`avg_weight_change binned\\`-0.6 to -0.1`\n",
       ":   1.09018994631605`\\`avg_weight_change binned\\`-1.12 to -.6`\n",
       ":   1.06970132276319`\\`avg_weight_change binned\\`-1.85 to -1.12`\n",
       ":   1.01614962733761`\\`avg_weight_change binned\\`-14.4 to -1.85`\n",
       ":   0.973904028672536`\\`avg_visits binned\\`1.18 to 2.27`\n",
       ":   0.758233666918215`\\`avg_visits binned\\`2.27 to 3.73`\n",
       ":   0.578178725862532`\\`avg_visits binned\\`3.73 to 5.65`\n",
       ":   0.435266673054713`\\`avg_visits binned\\`5.65 to 31`\n",
       ":   0.25460377187374genderMale\n",
       ":   1.01763683046844`visitsuntil_weightlost_factor2 to 3`\n",
       ":   0.853520876308615`visitsuntil_weightlost_factor4 to 5`\n",
       ":   0.893447392338229`visitsuntil_weightlost_factor5+`\n",
       ":   0.984313414719902`visitsuntil_weightlost_factorDidnt Lose Weight`\n",
       ":   0.997732108402759`\\`first_month_weightgain binned\\`1 to 3`\n",
       ":   0.875359674163057`\\`first_month_weightgain binned\\`4 to 10`\n",
       ":   0.730204641336815membershipWPM\n",
       ":   1.02932389044586membershipWUM\n",
       ":   0.854828119632264`\\`total.spend binned\\`(1.19e+03,4.52e+03]`\n",
       ":   1.38134969390992`\\`total.spend binned\\`(319,594]`\n",
       ":   0.804048133041916`\\`total.spend binned\\`(594,894]`\n",
       ":   0.965679612889217`\\`total.spend binned\\`(894,1.19e+03]`\n",
       ":   1.37581876095858`generationGen X`\n",
       ":   1.10158930815332generationiGen\n",
       ":   1.09099315502219generationMillennials\n",
       ":   1.19188562365364generationSilent\n",
       ":   0.988364915371729generationXennials\n",
       ":   1.02289529319978\n",
       "\n"
      ],
      "text/plain": [
       "                                     (Intercept) \n",
       "                                       0.1874195 \n",
       "    `\\\\`avg_weight_change binned\\\\`-0.6 to -0.1` \n",
       "                                       1.0901899 \n",
       "    `\\\\`avg_weight_change binned\\\\`-1.12 to -.6` \n",
       "                                       1.0697013 \n",
       "  `\\\\`avg_weight_change binned\\\\`-1.85 to -1.12` \n",
       "                                       1.0161496 \n",
       "  `\\\\`avg_weight_change binned\\\\`-14.4 to -1.85` \n",
       "                                       0.9739040 \n",
       "           `\\\\`avg_visits binned\\\\`1.18 to 2.27` \n",
       "                                       0.7582337 \n",
       "           `\\\\`avg_visits binned\\\\`2.27 to 3.73` \n",
       "                                       0.5781787 \n",
       "           `\\\\`avg_visits binned\\\\`3.73 to 5.65` \n",
       "                                       0.4352667 \n",
       "             `\\\\`avg_visits binned\\\\`5.65 to 31` \n",
       "                                       0.2546038 \n",
       "                                      genderMale \n",
       "                                       1.0176368 \n",
       "           `visitsuntil_weightlost_factor2 to 3` \n",
       "                                       0.8535209 \n",
       "           `visitsuntil_weightlost_factor4 to 5` \n",
       "                                       0.8934474 \n",
       "               `visitsuntil_weightlost_factor5+` \n",
       "                                       0.9843134 \n",
       "`visitsuntil_weightlost_factorDidnt Lose Weight` \n",
       "                                       0.9977321 \n",
       "     `\\\\`first_month_weightgain binned\\\\`1 to 3` \n",
       "                                       0.8753597 \n",
       "    `\\\\`first_month_weightgain binned\\\\`4 to 10` \n",
       "                                       0.7302046 \n",
       "                                   membershipWPM \n",
       "                                       1.0293239 \n",
       "                                   membershipWUM \n",
       "                                       0.8548281 \n",
       "   `\\\\`total.spend binned\\\\`(1.19e+03,4.52e+03]` \n",
       "                                       1.3813497 \n",
       "             `\\\\`total.spend binned\\\\`(319,594]` \n",
       "                                       0.8040481 \n",
       "             `\\\\`total.spend binned\\\\`(594,894]` \n",
       "                                       0.9656796 \n",
       "        `\\\\`total.spend binned\\\\`(894,1.19e+03]` \n",
       "                                       1.3758188 \n",
       "                               `generationGen X` \n",
       "                                       1.1015893 \n",
       "                                  generationiGen \n",
       "                                       1.0909932 \n",
       "                           generationMillennials \n",
       "                                       1.1918856 \n",
       "                                generationSilent \n",
       "                                       0.9883649 \n",
       "                              generationXennials \n",
       "                                       1.0228953 "
      ]
     },
     "metadata": {},
     "output_type": "display_data"
    }
   ],
   "source": [
    " exp(coef(model_glm$finalModel))\n"
   ]
  },
  {
   "cell_type": "code",
   "execution_count": 465,
   "metadata": {},
   "outputs": [],
   "source": [
    "predictions_glm_1 <- predict(model_glm,test_set, type = \"prob\")\n",
    "# colnames(predictions_glm_1) <- c('NoChurn','Churn')"
   ]
  },
  {
   "cell_type": "code",
   "execution_count": 230,
   "metadata": {},
   "outputs": [],
   "source": [
    "model_glm_2 <- caret::train(churn_v2 ~ `avg_weight_change binned`+ `avg_visits binned` + generation\n",
    "                               , data = train_set, method = \"glm\", family = \"binomial\")"
   ]
  },
  {
   "cell_type": "code",
   "execution_count": 231,
   "metadata": {},
   "outputs": [
    {
     "data": {
      "text/plain": [
       "Generalized Linear Model \n",
       "\n",
       "6948 samples\n",
       "   3 predictor\n",
       "   2 classes: 'No Churn', 'Churn' \n",
       "\n",
       "No pre-processing\n",
       "Resampling: Bootstrapped (25 reps) \n",
       "Summary of sample sizes: 6948, 6948, 6948, 6948, 6948, 6948, ... \n",
       "Resampling results:\n",
       "\n",
       "  Accuracy   Kappa    \n",
       "  0.7734036  0.1143439\n"
      ]
     },
     "metadata": {},
     "output_type": "display_data"
    }
   ],
   "source": [
    "model_glm_2"
   ]
  },
  {
   "cell_type": "code",
   "execution_count": 290,
   "metadata": {},
   "outputs": [
    {
     "data": {
      "text/html": [
       "<dl class=dl-horizontal>\n",
       "\t<dt>(Intercept)</dt>\n",
       "\t\t<dd>0.742337624896617</dd>\n",
       "\t<dt>`\\`avg_weight_change binned\\`-0.6 to -0.1`</dt>\n",
       "\t\t<dd>1.23953537464433</dd>\n",
       "\t<dt>`\\`avg_weight_change binned\\`-1.12 to -.6`</dt>\n",
       "\t\t<dd>1.2238276554004</dd>\n",
       "\t<dt>`\\`avg_weight_change binned\\`-1.85 to -1.12`</dt>\n",
       "\t\t<dd>1.23555808190788</dd>\n",
       "\t<dt>`\\`avg_weight_change binned\\`-14.4 to -1.85`</dt>\n",
       "\t\t<dd>1.48684257888219</dd>\n",
       "\t<dt>`\\`avg_visits binned\\`1.18 to 2.27`</dt>\n",
       "\t\t<dd>0.490077389309983</dd>\n",
       "\t<dt>`\\`avg_visits binned\\`2.27 to 3.73`</dt>\n",
       "\t\t<dd>0.268330345799158</dd>\n",
       "\t<dt>`\\`avg_visits binned\\`3.73 to 5.65`</dt>\n",
       "\t\t<dd>0.132617696781918</dd>\n",
       "\t<dt>`\\`avg_visits binned\\`5.65 to 31`</dt>\n",
       "\t\t<dd>0.0400444311473952</dd>\n",
       "\t<dt>`\\`first_month_weightgain binned\\`1 to 3`</dt>\n",
       "\t\t<dd>0.819881663566162</dd>\n",
       "\t<dt>`\\`first_month_weightgain binned\\`4 to 10`</dt>\n",
       "\t\t<dd>0.48063204099986</dd>\n",
       "\t<dt>`generationGen X`</dt>\n",
       "\t\t<dd>1.16387634913689</dd>\n",
       "\t<dt>generationiGen</dt>\n",
       "\t\t<dd>1.34798835062759</dd>\n",
       "\t<dt>generationMillennials</dt>\n",
       "\t\t<dd>1.95708833473399</dd>\n",
       "\t<dt>generationSilent</dt>\n",
       "\t\t<dd>0.891235800551752</dd>\n",
       "\t<dt>generationXennials</dt>\n",
       "\t\t<dd>1.16467038925147</dd>\n",
       "</dl>\n"
      ],
      "text/latex": [
       "\\begin{description*}\n",
       "\\item[(Intercept)] 0.742337624896617\n",
       "\\item[`\\textbackslash{}textbackslash\\{\\}`avg\\textbackslash{}\\_weight\\textbackslash{}\\_change binned\\textbackslash{}textbackslash\\{\\}`-0.6 to -0.1`] 1.23953537464433\n",
       "\\item[`\\textbackslash{}textbackslash\\{\\}`avg\\textbackslash{}\\_weight\\textbackslash{}\\_change binned\\textbackslash{}textbackslash\\{\\}`-1.12 to -.6`] 1.2238276554004\n",
       "\\item[`\\textbackslash{}textbackslash\\{\\}`avg\\textbackslash{}\\_weight\\textbackslash{}\\_change binned\\textbackslash{}textbackslash\\{\\}`-1.85 to -1.12`] 1.23555808190788\n",
       "\\item[`\\textbackslash{}textbackslash\\{\\}`avg\\textbackslash{}\\_weight\\textbackslash{}\\_change binned\\textbackslash{}textbackslash\\{\\}`-14.4 to -1.85`] 1.48684257888219\n",
       "\\item[`\\textbackslash{}textbackslash\\{\\}`avg\\textbackslash{}\\_visits binned\\textbackslash{}textbackslash\\{\\}`1.18 to 2.27`] 0.490077389309983\n",
       "\\item[`\\textbackslash{}textbackslash\\{\\}`avg\\textbackslash{}\\_visits binned\\textbackslash{}textbackslash\\{\\}`2.27 to 3.73`] 0.268330345799158\n",
       "\\item[`\\textbackslash{}textbackslash\\{\\}`avg\\textbackslash{}\\_visits binned\\textbackslash{}textbackslash\\{\\}`3.73 to 5.65`] 0.132617696781918\n",
       "\\item[`\\textbackslash{}textbackslash\\{\\}`avg\\textbackslash{}\\_visits binned\\textbackslash{}textbackslash\\{\\}`5.65 to 31`] 0.0400444311473952\n",
       "\\item[`\\textbackslash{}textbackslash\\{\\}`first\\textbackslash{}\\_month\\textbackslash{}\\_weightgain binned\\textbackslash{}textbackslash\\{\\}`1 to 3`] 0.819881663566162\n",
       "\\item[`\\textbackslash{}textbackslash\\{\\}`first\\textbackslash{}\\_month\\textbackslash{}\\_weightgain binned\\textbackslash{}textbackslash\\{\\}`4 to 10`] 0.48063204099986\n",
       "\\item[`generationGen X`] 1.16387634913689\n",
       "\\item[generationiGen] 1.34798835062759\n",
       "\\item[generationMillennials] 1.95708833473399\n",
       "\\item[generationSilent] 0.891235800551752\n",
       "\\item[generationXennials] 1.16467038925147\n",
       "\\end{description*}\n"
      ],
      "text/markdown": [
       "(Intercept)\n",
       ":   0.742337624896617`\\`avg_weight_change binned\\`-0.6 to -0.1`\n",
       ":   1.23953537464433`\\`avg_weight_change binned\\`-1.12 to -.6`\n",
       ":   1.2238276554004`\\`avg_weight_change binned\\`-1.85 to -1.12`\n",
       ":   1.23555808190788`\\`avg_weight_change binned\\`-14.4 to -1.85`\n",
       ":   1.48684257888219`\\`avg_visits binned\\`1.18 to 2.27`\n",
       ":   0.490077389309983`\\`avg_visits binned\\`2.27 to 3.73`\n",
       ":   0.268330345799158`\\`avg_visits binned\\`3.73 to 5.65`\n",
       ":   0.132617696781918`\\`avg_visits binned\\`5.65 to 31`\n",
       ":   0.0400444311473952`\\`first_month_weightgain binned\\`1 to 3`\n",
       ":   0.819881663566162`\\`first_month_weightgain binned\\`4 to 10`\n",
       ":   0.48063204099986`generationGen X`\n",
       ":   1.16387634913689generationiGen\n",
       ":   1.34798835062759generationMillennials\n",
       ":   1.95708833473399generationSilent\n",
       ":   0.891235800551752generationXennials\n",
       ":   1.16467038925147\n",
       "\n"
      ],
      "text/plain": [
       "                                   (Intercept) \n",
       "                                    0.74233762 \n",
       "  `\\\\`avg_weight_change binned\\\\`-0.6 to -0.1` \n",
       "                                    1.23953537 \n",
       "  `\\\\`avg_weight_change binned\\\\`-1.12 to -.6` \n",
       "                                    1.22382766 \n",
       "`\\\\`avg_weight_change binned\\\\`-1.85 to -1.12` \n",
       "                                    1.23555808 \n",
       "`\\\\`avg_weight_change binned\\\\`-14.4 to -1.85` \n",
       "                                    1.48684258 \n",
       "         `\\\\`avg_visits binned\\\\`1.18 to 2.27` \n",
       "                                    0.49007739 \n",
       "         `\\\\`avg_visits binned\\\\`2.27 to 3.73` \n",
       "                                    0.26833035 \n",
       "         `\\\\`avg_visits binned\\\\`3.73 to 5.65` \n",
       "                                    0.13261770 \n",
       "           `\\\\`avg_visits binned\\\\`5.65 to 31` \n",
       "                                    0.04004443 \n",
       "   `\\\\`first_month_weightgain binned\\\\`1 to 3` \n",
       "                                    0.81988166 \n",
       "  `\\\\`first_month_weightgain binned\\\\`4 to 10` \n",
       "                                    0.48063204 \n",
       "                             `generationGen X` \n",
       "                                    1.16387635 \n",
       "                                generationiGen \n",
       "                                    1.34798835 \n",
       "                         generationMillennials \n",
       "                                    1.95708833 \n",
       "                              generationSilent \n",
       "                                    0.89123580 \n",
       "                            generationXennials \n",
       "                                    1.16467039 "
      ]
     },
     "metadata": {},
     "output_type": "display_data"
    }
   ],
   "source": [
    "exp(coef(model_glm_4$finalModel))"
   ]
  },
  {
   "cell_type": "code",
   "execution_count": 233,
   "metadata": {},
   "outputs": [],
   "source": [
    "predictions_glm_2 <- predict(model_glm_2,test_set, type = \"prob\")\n",
    "colnames(predictions_glm_2) <- c('NoChurn','Churn')\n"
   ]
  },
  {
   "cell_type": "markdown",
   "metadata": {},
   "source": [
    "## Evaluating Class Probabilities with ROC Curves and AUC (Area under the Curve)\n",
    "The Receiver Operating Characteristic (ROC) curve is used to assess the accuracy of a continuous measurement for predicting a binary outcome. What is the tradeoff between sensitivity (predicting churn events correctly, aka true positive) versus specificity (non churn samples are predicted as non churn) and at what cut-off level are the two optimized?\n",
    "ROC is about 'model discrimination' and telling two classes apart. \n"
   ]
  },
  {
   "cell_type": "code",
   "execution_count": 466,
   "metadata": {},
   "outputs": [
    {
     "name": "stdout",
     "output_type": "stream",
     "text": [
      "[1] \"The area under the curve for Glm 1 is 0.782183217153248\"\n"
     ]
    },
    {
     "data": {
      "image/png": "[encoded data removed]",
      "text/plain": [
       "plot without title"
      ]
     },
     "metadata": {},
     "output_type": "display_data"
    }
   ],
   "source": [
    "#Lets' look at the AUC for our first Logistic Regression model\n",
    "result.roc_glm1 <- roc(test_set$churn_v2, predictions_glm_1$Churn) # Draw ROC curve.\n",
    " plot(result.roc_glm1, print.thres=\"best\", print.thres.best.method=\"closest.topleft\")\n",
    "print(paste(\"The area under the curve for Glm 1 is\",result.roc_glm1$auc))"
   ]
  },
  {
   "cell_type": "code",
   "execution_count": 355,
   "metadata": {},
   "outputs": [
    {
     "name": "stdout",
     "output_type": "stream",
     "text": [
      "[1] \"The area under the curve for Glm 2 is 0.760434282071962\"\n"
     ]
    },
    {
     "data": {
      "image/png": "[encoded data removed]",
      "text/plain": [
       "plot without title"
      ]
     },
     "metadata": {},
     "output_type": "display_data"
    }
   ],
   "source": [
    "#Lets' look at the AUC for our Logistic Regression model version 2 (just has 2 predictors: average weight change and average visits)\n",
    "# The 0.22 is the cutoff since that is the rate in the population of churn. We can adjust this level but will leave alone for this\n",
    "#exercise. \n",
    "result.roc <- roc(test_set$churn_v2, predictions_glm_2$Churn) # Draw ROC curve.\n",
    " plot(result.roc, print.thres=\"best\", print.thres.best.method=\"closest.topleft\")\n",
    "print(paste(\"The area under the curve for Glm 2 is\",result.roc$auc))"
   ]
  },
  {
   "cell_type": "code",
   "execution_count": 286,
   "metadata": {},
   "outputs": [
    {
     "name": "stdout",
     "output_type": "stream",
     "text": [
      "[1] \"The area under the curve for Glm 4 is 0.765234994926763\"\n"
     ]
    },
    {
     "data": {
      "image/png": "[encoded data removed]",
      "text/plain": [
       "plot without title"
      ]
     },
     "metadata": {},
     "output_type": "display_data"
    }
   ],
   "source": [
    "#Running another logistic regression model but we are adding another variable 'first month weight gain binned' \n",
    "model_glm_4 <- caret::train(churn_v2 ~ `avg_weight_change binned`+ `avg_visits binned` +  `first_month_weightgain binned`+ generation\n",
    "                             , data = train_set, method = \"glm\", family = \"binomial\")\n",
    " predictions_glm_4 <- predict(model_glm_4,test_set, type = \"prob\")\n",
    "\n",
    "colnames(predictions_glm_4) <- c('NoChurn','Churn')\n",
    "result.roc_glm4 <- roc(test_set$churn_v2, predictions_glm_4$Churn) # Draw ROC curve.\n",
    " plot(result.roc_glm4, print.thres=\"best\", print.thres.best.method=\"closest.topleft\")\n",
    "print(paste(\"The area under the curve for Glm 4 is\",result.roc_glm4$auc))"
   ]
  },
  {
   "cell_type": "code",
   "execution_count": 361,
   "metadata": {},
   "outputs": [],
   "source": [
    "model_knn <- train(churn_v2 ~ `avg_weight_change binned`+ `avg_visits binned` +\n",
    "                              `first_month_weightgain binned` + membership + `total.spend binned` + generation\n",
    "                   , data = train_set, method = \"knn\",\n",
    "                   preProc = c(\"center\",\"scale\"),\n",
    "                   tuneGrid = data.frame(.k = 1:20),\n",
    "                   trControl = trainControl(method = \"cv\"))\n",
    "predictions_knn <- predict(model_knn,test_set, type = \"prob\")"
   ]
  },
  {
   "cell_type": "code",
   "execution_count": 362,
   "metadata": {},
   "outputs": [
    {
     "name": "stdout",
     "output_type": "stream",
     "text": [
      "[1] \"The area under the curve for KNN is 0.761713323100138\"\n"
     ]
    },
    {
     "data": {
      "image/png": "[encoded data removed]",
      "text/plain": [
       "plot without title"
      ]
     },
     "metadata": {},
     "output_type": "display_data"
    }
   ],
   "source": [
    "#\n",
    "result.roc.knn <- roc(test_set$churn_v2, predictions_knn$Churn) # Draw ROC curve.\n",
    "plot(result.roc.knn, print.thres=\"best\", print.thres.best.method=\"closest.topleft\")\n",
    "print(paste(\"The area under the curve for KNN is\",result.roc.knn$auc))"
   ]
  },
  {
   "cell_type": "code",
   "execution_count": 467,
   "metadata": {},
   "outputs": [
    {
     "data": {},
     "metadata": {},
     "output_type": "display_data"
    },
    {
     "data": {
      "image/png": "[encoded data removed]",
      "text/plain": [
       "plot without title"
      ]
     },
     "metadata": {},
     "output_type": "display_data"
    }
   ],
   "source": [
    "#Lets take a look at all three models together\n",
    "\n",
    "gg_first_3_mods_ROC <- ggroc(list(glm1 = result.roc_glm1, glm2 = result.roc,glm_4 = result.roc_glm4, knn = result.roc.knn))\n",
    "gg_first_3_mods_ROC + ggtitle('Logistic Regression v1, v2 & v4 and KNN - ROC Curves')"
   ]
  },
  {
   "cell_type": "code",
   "execution_count": 364,
   "metadata": {},
   "outputs": [],
   "source": [
    "predictions_glm_all_data <- predict(model_glm, model_data_discrete, type = \"prob\")"
   ]
  },
  {
   "cell_type": "code",
   "execution_count": 371,
   "metadata": {},
   "outputs": [
    {
     "data": {
      "text/html": [
       "<ol class=list-inline>\n",
       "\t<li>9562</li>\n",
       "\t<li>2</li>\n",
       "</ol>\n"
      ],
      "text/latex": [
       "\\begin{enumerate*}\n",
       "\\item 9562\n",
       "\\item 2\n",
       "\\end{enumerate*}\n"
      ],
      "text/markdown": [
       "1. 9562\n",
       "2. 2\n",
       "\n",
       "\n"
      ],
      "text/plain": [
       "[1] 9562    2"
      ]
     },
     "metadata": {},
     "output_type": "display_data"
    }
   ],
   "source": [
    "dim(predictions_glm_all_data)"
   ]
  },
  {
   "cell_type": "code",
   "execution_count": 365,
   "metadata": {},
   "outputs": [
    {
     "data": {
      "text/html": [
       "<table>\n",
       "<thead><tr><th scope=col>No Churn</th><th scope=col>Churn</th></tr></thead>\n",
       "<tbody>\n",
       "\t<tr><td>0.8714453</td><td>0.1285547</td></tr>\n",
       "\t<tr><td>0.6850191</td><td>0.3149809</td></tr>\n",
       "\t<tr><td>0.4819380</td><td>0.5180620</td></tr>\n",
       "\t<tr><td>0.8131323</td><td>0.1868677</td></tr>\n",
       "\t<tr><td>0.5239666</td><td>0.4760334</td></tr>\n",
       "\t<tr><td>0.6191835</td><td>0.3808165</td></tr>\n",
       "</tbody>\n",
       "</table>\n"
      ],
      "text/latex": [
       "\\begin{tabular}{r|ll}\n",
       " No Churn & Churn\\\\\n",
       "\\hline\n",
       "\t 0.8714453 & 0.1285547\\\\\n",
       "\t 0.6850191 & 0.3149809\\\\\n",
       "\t 0.4819380 & 0.5180620\\\\\n",
       "\t 0.8131323 & 0.1868677\\\\\n",
       "\t 0.5239666 & 0.4760334\\\\\n",
       "\t 0.6191835 & 0.3808165\\\\\n",
       "\\end{tabular}\n"
      ],
      "text/markdown": [
       "\n",
       "No Churn | Churn | \n",
       "|---|---|---|---|---|---|\n",
       "| 0.8714453 | 0.1285547 | \n",
       "| 0.6850191 | 0.3149809 | \n",
       "| 0.4819380 | 0.5180620 | \n",
       "| 0.8131323 | 0.1868677 | \n",
       "| 0.5239666 | 0.4760334 | \n",
       "| 0.6191835 | 0.3808165 | \n",
       "\n",
       "\n"
      ],
      "text/plain": [
       "  No Churn  Churn    \n",
       "1 0.8714453 0.1285547\n",
       "2 0.6850191 0.3149809\n",
       "3 0.4819380 0.5180620\n",
       "4 0.8131323 0.1868677\n",
       "5 0.5239666 0.4760334\n",
       "6 0.6191835 0.3808165"
      ]
     },
     "metadata": {},
     "output_type": "display_data"
    }
   ],
   "source": [
    "head(predictions_glm_all_data)\n"
   ]
  },
  {
   "cell_type": "code",
   "execution_count": 366,
   "metadata": {},
   "outputs": [],
   "source": [
    "colnames(predictions_glm_all_data) <- c(\"GlmPredictedNoChurn\",\"GlmPredictedChurn\")\n"
   ]
  },
  {
   "cell_type": "code",
   "execution_count": 367,
   "metadata": {},
   "outputs": [],
   "source": [
    "model_data_discrete$predicted_glm_NoChurn <- predictions_glm_all_data$GlmPredictedNoChurn\n",
    "model_data_discrete$predicted_glm_Churn <- predictions_glm_all_data$GlmPredictedChurn"
   ]
  },
  {
   "cell_type": "code",
   "execution_count": 374,
   "metadata": {},
   "outputs": [],
   "source": [
    "write.csv(model_data_discrete, 'model_data_01_30.csv')"
   ]
  }
 ],
 "metadata": {
  "kernelspec": {
   "display_name": "R",
   "language": "R",
   "name": "ir"
  },
  "language_info": {
   "codemirror_mode": "r",
   "file_extension": ".r",
   "mimetype": "text/x-r-source",
   "name": "R",
   "pygments_lexer": "r",
   "version": "3.5.1"
  }
 },
 "nbformat": 4,
 "nbformat_minor": 2
}
