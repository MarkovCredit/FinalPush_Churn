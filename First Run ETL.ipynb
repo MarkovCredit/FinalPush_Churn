{
 "cells": [
  {
   "cell_type": "code",
   "execution_count": null,
   "metadata": {},
   "outputs": [],
   "source": []
  },
  {
   "cell_type": "code",
   "execution_count": 4,
   "metadata": {},
   "outputs": [],
   "source": [
    "#dependencies\n",
    "%matplotlib notebook\n",
    "\n",
    "import tweepy\n",
    "import numpy as np\n",
    "import pandas as pd\n",
    "import matplotlib.pyplot as plt\n",
    "import time\n",
    "import os\n",
    "\n",
    "from datetime import datetime, timedelta"
   ]
  },
  {
   "cell_type": "code",
   "execution_count": 5,
   "metadata": {},
   "outputs": [],
   "source": [
    "#functions\n",
    "\n",
    "def calculate_age(born):\n",
    "    today = date.today()\n",
    "    return today.year - born.year - ((today.month, today.day) < (born.month, born.day))"
   ]
  },
  {
   "cell_type": "code",
   "execution_count": 7,
   "metadata": {},
   "outputs": [],
   "source": [
    "\n",
    "#create a listing of objects in the data directory\n",
    "this_dir = os.listdir(\"data/import\")\n",
    "\n",
    "#store the number of datasets found to compare later\n",
    "#len(this_dir)\n",
    "numfiles = len(this_dir)"
   ]
  },
  {
   "cell_type": "code",
   "execution_count": 8,
   "metadata": {},
   "outputs": [
    {
     "data": {
      "text/plain": [
       "13"
      ]
     },
     "execution_count": 8,
     "metadata": {},
     "output_type": "execute_result"
    }
   ],
   "source": [
    "numfiles"
   ]
  },
  {
   "cell_type": "code",
   "execution_count": 9,
   "metadata": {},
   "outputs": [
    {
     "name": "stdout",
     "output_type": "stream",
     "text": [
      "APR2018WeightLossAndComments clean.xlsx\n",
      "Aug2018WeightLossAndComments clean.xlsx\n",
      "DEC2018WeightLossAndComments clean.xlsx\n",
      "FEB2018WeightLossAndComments clean.xlsx\n",
      "JAN2018WeightLossAndComments clean.xlsx\n",
      "JUL2018WeightLossAndComments clean.xlsx\n",
      "JUN2018WeightLossAndComments clean.xlsx\n",
      "MAR2018WeightLossAndComments clean.xlsx\n",
      "MAY2018WeightLossAndComments clean.xlsx\n",
      "NOV2018WeightLossAndComments clean.xlsx\n",
      "OCT2018WeightLossAndComments clean.xlsx\n",
      "SEP2018WeightLossAndComments clean.xlsx\n",
      "subscribers data set clean.xlsx\n"
     ]
    }
   ],
   "source": [
    "#setup a counter\n",
    "row = 0\n",
    "\n",
    "for i in this_dir:\n",
    "    row += 1\n",
    "    #file_name = i.replace(\".csv\",\"\")\n",
    "    print(i)    "
   ]
  },
  {
   "cell_type": "code",
   "execution_count": 17,
   "metadata": {},
   "outputs": [
    {
     "data": {
      "text/plain": [
       "'\\nJAN2018WeightLossAndComments clean.xlsx\\nFEB2018WeightLossAndComments clean.xlsx\\nMAR2018WeightLossAndComments clean.xlsx\\nAPR2018WeightLossAndComments clean.xlsx\\nMAY2018WeightLossAndComments clean.xlsx\\nJUN2018WeightLossAndComments clean.xlsx\\nJUL2018WeightLossAndComments clean.xlsx\\nAug2018WeightLossAndComments clean.xlsx\\nSEP2018WeightLossAndComments clean.xlsx\\nOCT2018WeightLossAndComments clean.xlsx\\nNOV2018WeightLossAndComments clean.xlsx\\nDEC2018WeightLossAndComments clean.xlsx\\n'"
      ]
     },
     "execution_count": 17,
     "metadata": {},
     "output_type": "execute_result"
    }
   ],
   "source": [
    "'''\n",
    "JAN2018WeightLossAndComments clean.xlsx\n",
    "FEB2018WeightLossAndComments clean.xlsx\n",
    "MAR2018WeightLossAndComments clean.xlsx\n",
    "APR2018WeightLossAndComments clean.xlsx\n",
    "MAY2018WeightLossAndComments clean.xlsx\n",
    "JUN2018WeightLossAndComments clean.xlsx\n",
    "JUL2018WeightLossAndComments clean.xlsx\n",
    "Aug2018WeightLossAndComments clean.xlsx\n",
    "SEP2018WeightLossAndComments clean.xlsx\n",
    "OCT2018WeightLossAndComments clean.xlsx\n",
    "NOV2018WeightLossAndComments clean.xlsx\n",
    "DEC2018WeightLossAndComments clean.xlsx\n",
    "'''"
   ]
  },
  {
   "cell_type": "code",
   "execution_count": 61,
   "metadata": {},
   "outputs": [],
   "source": [
    "file00_path  = \"data/export/JAN2018WeightLossAndComments clean.csv\"\n",
    "file01_path  = \"data/export/FEB2018WeightLossAndComments clean.csv\"\n",
    "file02_path  = \"data/export/MAR2018WeightLossAndComments clean.csv\"\n",
    "file03_path  = \"data/export/APR2018WeightLossAndComments clean.csv\"\n",
    "file04_path  = \"data/export/MAY2018WeightLossAndComments clean.csv\"\n",
    "file05_path  = \"data/export/JUN2018WeightLossAndComments clean.csv\"\n",
    "file06_path  = \"data/export/JUL2018WeightLossAndComments clean.csv\"\n",
    "file07_path  = \"data/export/Aug2018WeightLossAndComments clean.csv\"\n",
    "file08_path  = \"data/export/SEP2018WeightLossAndComments clean.csv\"\n",
    "file09_path  = \"data/export/OCT2018WeightLossAndComments clean.csv\"\n",
    "file010_path = \"data/export/NOV2018WeightLossAndComments clean.csv\"\n",
    "file011_path = \"data/export/DEC2018WeightLossAndComments clean.csv\"\n",
    "fileAA_path = \"data/export/subscribers data set clean.csv\""
   ]
  },
  {
   "cell_type": "code",
   "execution_count": 62,
   "metadata": {},
   "outputs": [],
   "source": [
    "file00_df = pd.read_csv(file00_path)\n",
    "file01_df = pd.read_csv(file01_path)\n",
    "file02_df = pd.read_csv(file02_path)\n",
    "file03_df = pd.read_csv(file03_path)\n",
    "file04_df = pd.read_csv(file04_path)\n",
    "file05_df = pd.read_csv(file05_path)\n",
    "file06_df = pd.read_csv(file06_path)\n",
    "file07_df = pd.read_csv(file07_path)\n",
    "file08_df = pd.read_csv(file08_path)\n",
    "file09_df = pd.read_csv(file09_path)\n",
    "file010_df = pd.read_csv(file010_path)\n",
    "file011_df = pd.read_csv(file011_path)\n",
    "fileAA_df = pd.read_csv(fileAA_path)"
   ]
  },
  {
   "cell_type": "code",
   "execution_count": 63,
   "metadata": {},
   "outputs": [
    {
     "data": {
      "text/html": [
       "<div>\n",
       "<style scoped>\n",
       "    .dataframe tbody tr th:only-of-type {\n",
       "        vertical-align: middle;\n",
       "    }\n",
       "\n",
       "    .dataframe tbody tr th {\n",
       "        vertical-align: top;\n",
       "    }\n",
       "\n",
       "    .dataframe thead th {\n",
       "        text-align: right;\n",
       "    }\n",
       "</style>\n",
       "<table border=\"1\" class=\"dataframe\">\n",
       "  <thead>\n",
       "    <tr style=\"text-align: right;\">\n",
       "      <th></th>\n",
       "      <th>PID</th>\n",
       "      <th>Clinic_id</th>\n",
       "      <th>Date first visit of the month</th>\n",
       "      <th>Session (if applicable)</th>\n",
       "      <th>Weight first visit of the month</th>\n",
       "      <th>Comment first visit</th>\n",
       "      <th>last visit of month</th>\n",
       "      <th>session (if applicable)</th>\n",
       "      <th>Weight last visit of month</th>\n",
       "      <th>comment last visit of month</th>\n",
       "      <th># of Visits (W, M, L)</th>\n",
       "      <th>Memb</th>\n",
       "      <th>Lbs Lost</th>\n",
       "    </tr>\n",
       "  </thead>\n",
       "  <tbody>\n",
       "    <tr>\n",
       "      <th>0</th>\n",
       "      <td>1Ker8980</td>\n",
       "      <td>1</td>\n",
       "      <td>01/05/18</td>\n",
       "      <td>NaN</td>\n",
       "      <td>171.2</td>\n",
       "      <td>Disc exercise, and portion control. Adv on pro...</td>\n",
       "      <td>01/26/18</td>\n",
       "      <td>NaN</td>\n",
       "      <td>169.1</td>\n",
       "      <td>disc boosters.</td>\n",
       "      <td>4</td>\n",
       "      <td>BWM</td>\n",
       "      <td>2.1</td>\n",
       "    </tr>\n",
       "  </tbody>\n",
       "</table>\n",
       "</div>"
      ],
      "text/plain": [
       "        PID  Clinic_id Date first visit of the month  Session (if applicable)  \\\n",
       "0  1Ker8980          1                      01/05/18                      NaN   \n",
       "\n",
       "   Weight first visit of the month  \\\n",
       "0                            171.2   \n",
       "\n",
       "                                 Comment first visit last visit of month  \\\n",
       "0  Disc exercise, and portion control. Adv on pro...            01/26/18   \n",
       "\n",
       "   session (if applicable)  Weight last visit of month  \\\n",
       "0                      NaN                       169.1   \n",
       "\n",
       "  comment last visit of month  # of Visits (W, M, L) Memb  Lbs Lost  \n",
       "0              disc boosters.                      4  BWM       2.1  "
      ]
     },
     "execution_count": 63,
     "metadata": {},
     "output_type": "execute_result"
    }
   ],
   "source": [
    "file00_df.head(1)"
   ]
  },
  {
   "cell_type": "code",
   "execution_count": null,
   "metadata": {},
   "outputs": [],
   "source": [
    "'''file00_df = pd.read_csv(file00_path)\n",
    "file01_df = pd.read_csv(file01_path)\n",
    "file02_df = pd.read_csv(file02_path)\n",
    "file03_df = pd.read_csv(file03_path)\n",
    "file04_df = pd.read_csv(file04_path)\n",
    "file05_df = pd.read_csv(file05_path)\n",
    "file06_df = pd.read_csv(file06_path)\n",
    "file07_df = pd.read_csv(file07_path)\n",
    "file08_df = pd.read_csv(file08_path)\n",
    "file09_df = pd.read_csv(file09_path)\n",
    "file010_df = pd.read_csv(file010_path)\n",
    "file011_df = pd.read_csv(file011_path)\n",
    "fileAA_df = pd.read_csv(fileAA_path)'''"
   ]
  },
  {
   "cell_type": "code",
   "execution_count": 79,
   "metadata": {},
   "outputs": [],
   "source": [
    "bigdata = pd.concat([file01_df, file02_df, file03_df, file04_df, file05_df, file06_df, \n",
    "file07_df, file08_df, file09_df, file010_df, file011_df], ignore_index=True, sort=True)"
   ]
  },
  {
   "cell_type": "code",
   "execution_count": 80,
   "metadata": {},
   "outputs": [
    {
     "data": {
      "text/plain": [
       "# of Visits (W, M, L)              57162\n",
       "Clinic_id                          57162\n",
       "Comment first visit                54824\n",
       "Date first visit of the month      56715\n",
       "First Name                          4570\n",
       "Last Name                           4570\n",
       "Lbs Lost                           57162\n",
       "Memb                               57162\n",
       "PID                                57162\n",
       "Patient_id                          4570\n",
       "Session (if applicable)            31133\n",
       "Weight first visit of the month    56715\n",
       "Weight last visit of month         56715\n",
       "comment last visit of month        55076\n",
       "last visit of month                56715\n",
       "session (if applicable)            30397\n",
       "dtype: int64"
      ]
     },
     "execution_count": 80,
     "metadata": {},
     "output_type": "execute_result"
    }
   ],
   "source": [
    "bigdata.count()"
   ]
  },
  {
   "cell_type": "code",
   "execution_count": 47,
   "metadata": {},
   "outputs": [],
   "source": []
  },
  {
   "cell_type": "code",
   "execution_count": 81,
   "metadata": {},
   "outputs": [
    {
     "name": "stdout",
     "output_type": "stream",
     "text": [
      "Index(['# of Visits (W, M, L)', 'Clinic_id', 'Comment first visit',\n",
      "       'Date first visit of the month', 'First Name', 'Last Name', 'Lbs Lost',\n",
      "       'Memb', 'PID', 'Patient_id', 'Session (if applicable)',\n",
      "       'Weight first visit of the month', 'Weight last visit of month',\n",
      "       'comment last visit of month', 'last visit of month',\n",
      "       'session (if applicable)'],\n",
      "      dtype='object')\n"
     ]
    }
   ],
   "source": [
    "print(bigdata.columns)"
   ]
  },
  {
   "cell_type": "code",
   "execution_count": 82,
   "metadata": {},
   "outputs": [],
   "source": [
    "patientdata_fixdf = bigdata.rename(columns={\n",
    "    '# of Visits (W, M, L)':'NUM_VISITS'\n",
    "    , 'Clinic_id':'CLINIC_ID'\n",
    "    , 'Comment first visit':'MONTHLY_INITIAL_VISIT_COMMENT'\n",
    "    , 'Date first visit of the month':'MONTHLY_INITIAL_VISIT_DATE'\n",
    "    , 'First Name':'FIRST_NAME'\n",
    "    , 'Last Name':'LAST_NAME'\n",
    "    , 'Lbs Lost':'POUNDS_LOST'\n",
    "    , 'Memb':'MEMBER'\n",
    "    , 'PID':'PID'\n",
    "    , 'Patient_id':'PATIENT_ID'\n",
    "    , 'Session (if applicable)':'MONTHLY_INITIAL_SESSION'\n",
    "    , 'Weight first visit of the month':'MONTHLY_INITIAL_VISIT_WEIGHT'\n",
    "    , 'Weight last visit of month':'MONTHLY_END_VISIT_WEIGHT'\n",
    "    , 'comment last visit of month':'MONTHLY_END_VISIT_COMMENT'\n",
    "    , 'last visit of month':'MONTHLY_END_VISIT_DATE'\n",
    "    , 'session (if applicable)':'MONTHLY_END_SESSION' \n",
    "                                                })"
   ]
  },
  {
   "cell_type": "code",
   "execution_count": 83,
   "metadata": {},
   "outputs": [
    {
     "data": {
      "text/html": [
       "<div>\n",
       "<style scoped>\n",
       "    .dataframe tbody tr th:only-of-type {\n",
       "        vertical-align: middle;\n",
       "    }\n",
       "\n",
       "    .dataframe tbody tr th {\n",
       "        vertical-align: top;\n",
       "    }\n",
       "\n",
       "    .dataframe thead th {\n",
       "        text-align: right;\n",
       "    }\n",
       "</style>\n",
       "<table border=\"1\" class=\"dataframe\">\n",
       "  <thead>\n",
       "    <tr style=\"text-align: right;\">\n",
       "      <th></th>\n",
       "      <th>NUM_VISITS</th>\n",
       "      <th>CLINIC_ID</th>\n",
       "      <th>MONTHLY_INITIAL_VISIT_COMMENT</th>\n",
       "      <th>MONTHLY_INITIAL_VISIT_DATE</th>\n",
       "      <th>FIRST_NAME</th>\n",
       "      <th>LAST_NAME</th>\n",
       "      <th>POUNDS_LOST</th>\n",
       "      <th>MEMBER</th>\n",
       "      <th>PID</th>\n",
       "      <th>PATIENT_ID</th>\n",
       "      <th>MONTHLY_INITIAL_SESSION</th>\n",
       "      <th>MONTHLY_INITIAL_VISIT_WEIGHT</th>\n",
       "      <th>MONTHLY_END_VISIT_WEIGHT</th>\n",
       "      <th>MONTHLY_END_VISIT_COMMENT</th>\n",
       "      <th>MONTHLY_END_VISIT_DATE</th>\n",
       "      <th>MONTHLY_END_SESSION</th>\n",
       "    </tr>\n",
       "  </thead>\n",
       "  <tbody>\n",
       "    <tr>\n",
       "      <th>0</th>\n",
       "      <td>2</td>\n",
       "      <td>1</td>\n",
       "      <td>Disc cont with weekly visits</td>\n",
       "      <td>02/08/18</td>\n",
       "      <td>NaN</td>\n",
       "      <td>NaN</td>\n",
       "      <td>-1.5</td>\n",
       "      <td>BWM</td>\n",
       "      <td>1Ker8980</td>\n",
       "      <td>NaN</td>\n",
       "      <td>NaN</td>\n",
       "      <td>166.3</td>\n",
       "      <td>167.8</td>\n",
       "      <td>ltm pt- weight - talked about ME basics.</td>\n",
       "      <td>02/16/18</td>\n",
       "      <td>NaN</td>\n",
       "    </tr>\n",
       "    <tr>\n",
       "      <th>1</th>\n",
       "      <td>6</td>\n",
       "      <td>1</td>\n",
       "      <td>disc will r/s program on 02/19/18, disc coming...</td>\n",
       "      <td>02/02/18</td>\n",
       "      <td>NaN</td>\n",
       "      <td>NaN</td>\n",
       "      <td>2</td>\n",
       "      <td>WUM</td>\n",
       "      <td>1Man9234</td>\n",
       "      <td>NaN</td>\n",
       "      <td>NaN</td>\n",
       "      <td>195.2</td>\n",
       "      <td>193.2</td>\n",
       "      <td>weight check</td>\n",
       "      <td>02/27/18</td>\n",
       "      <td>NaN</td>\n",
       "    </tr>\n",
       "    <tr>\n",
       "      <th>2</th>\n",
       "      <td>16</td>\n",
       "      <td>1</td>\n",
       "      <td>Disc r/s tomorrow</td>\n",
       "      <td>02/05/18</td>\n",
       "      <td>NaN</td>\n",
       "      <td>NaN</td>\n",
       "      <td>7.3</td>\n",
       "      <td>WUM</td>\n",
       "      <td>1Rad9824</td>\n",
       "      <td>NaN</td>\n",
       "      <td>NaN</td>\n",
       "      <td>161.7</td>\n",
       "      <td>154.4</td>\n",
       "      <td>Inadequate Weight Loss, weight loss menu today...</td>\n",
       "      <td>02/27/18</td>\n",
       "      <td>3.5</td>\n",
       "    </tr>\n",
       "    <tr>\n",
       "      <th>3</th>\n",
       "      <td>4</td>\n",
       "      <td>1</td>\n",
       "      <td>reg menu day td, pt stated she's continuing to...</td>\n",
       "      <td>02/02/18</td>\n",
       "      <td>NaN</td>\n",
       "      <td>NaN</td>\n",
       "      <td>0.9</td>\n",
       "      <td>BWM29</td>\n",
       "      <td>42Bea1009</td>\n",
       "      <td>NaN</td>\n",
       "      <td>NaN</td>\n",
       "      <td>169.2</td>\n",
       "      <td>168.3</td>\n",
       "      <td>weight checked, had prot day yesterday. Remind...</td>\n",
       "      <td>02/22/18</td>\n",
       "      <td>NaN</td>\n",
       "    </tr>\n",
       "    <tr>\n",
       "      <th>4</th>\n",
       "      <td>2</td>\n",
       "      <td>1</td>\n",
       "      <td>Pt states feeling much better, disc membership...</td>\n",
       "      <td>02/13/18</td>\n",
       "      <td>NaN</td>\n",
       "      <td>NaN</td>\n",
       "      <td>-1.8</td>\n",
       "      <td>BWM</td>\n",
       "      <td>1Gib1217</td>\n",
       "      <td>NaN</td>\n",
       "      <td>NaN</td>\n",
       "      <td>190.0</td>\n",
       "      <td>191.8</td>\n",
       "      <td>Disc fluids and exercise</td>\n",
       "      <td>02/20/18</td>\n",
       "      <td>NaN</td>\n",
       "    </tr>\n",
       "  </tbody>\n",
       "</table>\n",
       "</div>"
      ],
      "text/plain": [
       "   NUM_VISITS  CLINIC_ID                      MONTHLY_INITIAL_VISIT_COMMENT  \\\n",
       "0           2          1                       Disc cont with weekly visits   \n",
       "1           6          1  disc will r/s program on 02/19/18, disc coming...   \n",
       "2          16          1                                  Disc r/s tomorrow   \n",
       "3           4          1  reg menu day td, pt stated she's continuing to...   \n",
       "4           2          1  Pt states feeling much better, disc membership...   \n",
       "\n",
       "  MONTHLY_INITIAL_VISIT_DATE FIRST_NAME LAST_NAME POUNDS_LOST MEMBER  \\\n",
       "0                   02/08/18        NaN       NaN        -1.5    BWM   \n",
       "1                   02/02/18        NaN       NaN           2    WUM   \n",
       "2                   02/05/18        NaN       NaN         7.3    WUM   \n",
       "3                   02/02/18        NaN       NaN         0.9  BWM29   \n",
       "4                   02/13/18        NaN       NaN        -1.8    BWM   \n",
       "\n",
       "         PID  PATIENT_ID  MONTHLY_INITIAL_SESSION  \\\n",
       "0   1Ker8980         NaN                      NaN   \n",
       "1   1Man9234         NaN                      NaN   \n",
       "2   1Rad9824         NaN                      NaN   \n",
       "3  42Bea1009         NaN                      NaN   \n",
       "4   1Gib1217         NaN                      NaN   \n",
       "\n",
       "   MONTHLY_INITIAL_VISIT_WEIGHT  MONTHLY_END_VISIT_WEIGHT  \\\n",
       "0                         166.3                     167.8   \n",
       "1                         195.2                     193.2   \n",
       "2                         161.7                     154.4   \n",
       "3                         169.2                     168.3   \n",
       "4                         190.0                     191.8   \n",
       "\n",
       "                           MONTHLY_END_VISIT_COMMENT MONTHLY_END_VISIT_DATE  \\\n",
       "0           ltm pt- weight - talked about ME basics.               02/16/18   \n",
       "1                                       weight check               02/27/18   \n",
       "2  Inadequate Weight Loss, weight loss menu today...               02/27/18   \n",
       "3  weight checked, had prot day yesterday. Remind...               02/22/18   \n",
       "4                           Disc fluids and exercise               02/20/18   \n",
       "\n",
       "   MONTHLY_END_SESSION  \n",
       "0                  NaN  \n",
       "1                  NaN  \n",
       "2                  3.5  \n",
       "3                  NaN  \n",
       "4                  NaN  "
      ]
     },
     "execution_count": 83,
     "metadata": {},
     "output_type": "execute_result"
    }
   ],
   "source": [
    "patientdata_fixdf.head()"
   ]
  },
  {
   "cell_type": "code",
   "execution_count": 75,
   "metadata": {},
   "outputs": [
    {
     "data": {
      "text/plain": [
       "NUM_VISITS                       3432\n",
       "CLINIC_ID                        3432\n",
       "MONTHLY_INITIAL_VISIT_COMMENT    3298\n",
       "MONTHLY_INITIAL_VISIT_DATE       3409\n",
       "POUNDS_LOST                      3432\n",
       "MEMBER                           3432\n",
       "PID                              3432\n",
       "MONTHLY_INITIAL_SESSION          1678\n",
       "MONTHLY_INITIAL_VISIT_WEIGHT     3409\n",
       "MONTHLY_END_VISIT_WEIGHT         3409\n",
       "MONTHLY_END_VISIT_COMMENT        3312\n",
       "MONTHLY_END_VISIT_DATE           3409\n",
       "MONTHLY_END_SESSION              1743\n",
       "dtype: int64"
      ]
     },
     "execution_count": 75,
     "metadata": {},
     "output_type": "execute_result"
    }
   ],
   "source": [
    "patientdata_fixdf.count()"
   ]
  },
  {
   "cell_type": "code",
   "execution_count": 84,
   "metadata": {},
   "outputs": [
    {
     "data": {
      "text/plain": [
       "(57162, 16)"
      ]
     },
     "execution_count": 84,
     "metadata": {},
     "output_type": "execute_result"
    }
   ],
   "source": [
    "patientdata_fixdf.shape"
   ]
  },
  {
   "cell_type": "code",
   "execution_count": 85,
   "metadata": {},
   "outputs": [],
   "source": [
    "patientdata_fixdf.to_csv('data\\patient_bigdata_00.csv')"
   ]
  },
  {
   "cell_type": "code",
   "execution_count": null,
   "metadata": {},
   "outputs": [],
   "source": []
  },
  {
   "cell_type": "code",
   "execution_count": null,
   "metadata": {},
   "outputs": [],
   "source": []
  },
  {
   "cell_type": "code",
   "execution_count": null,
   "metadata": {},
   "outputs": [],
   "source": []
  },
  {
   "cell_type": "code",
   "execution_count": null,
   "metadata": {},
   "outputs": [],
   "source": []
  },
  {
   "cell_type": "code",
   "execution_count": null,
   "metadata": {},
   "outputs": [],
   "source": []
  }
 ],
 "metadata": {
  "kernelspec": {
   "display_name": "Python [conda env:PythonData]",
   "language": "python",
   "name": "conda-env-PythonData-py"
  },
  "language_info": {
   "codemirror_mode": {
    "name": "ipython",
    "version": 3
   },
   "file_extension": ".py",
   "mimetype": "text/x-python",
   "name": "python",
   "nbconvert_exporter": "python",
   "pygments_lexer": "ipython3",
   "version": "3.6.5"
  }
 },
 "nbformat": 4,
 "nbformat_minor": 2
}
